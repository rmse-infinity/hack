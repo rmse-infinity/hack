{
 "cells": [
  {
   "cell_type": "markdown",
   "metadata": {},
   "source": [
    "# News processing"
   ]
  },
  {
   "cell_type": "code",
   "execution_count": 2,
   "metadata": {},
   "outputs": [],
   "source": [
    "import pandas as pd\n",
    "import numpy as np\n",
    "from openai import AsyncOpenAI\n",
    "import asyncio\n",
    "from tqdm.asyncio import tqdm_asyncio\n",
    "import time\n",
    "from typing import List, Tuple"
   ]
  },
  {
   "cell_type": "code",
   "execution_count": 11,
   "metadata": {
    "execution": {
     "iopub.execute_input": "2025-10-04T17:15:55.746246Z",
     "iopub.status.busy": "2025-10-04T17:15:55.745534Z",
     "iopub.status.idle": "2025-10-04T17:15:55.793998Z",
     "shell.execute_reply": "2025-10-04T17:15:55.793423Z",
     "shell.execute_reply.started": "2025-10-04T17:15:55.746219Z"
    }
   },
   "outputs": [
    {
     "data": {
      "text/html": [
       "<div>\n",
       "<style scoped>\n",
       "    .dataframe tbody tr th:only-of-type {\n",
       "        vertical-align: middle;\n",
       "    }\n",
       "\n",
       "    .dataframe tbody tr th {\n",
       "        vertical-align: top;\n",
       "    }\n",
       "\n",
       "    .dataframe thead th {\n",
       "        text-align: right;\n",
       "    }\n",
       "</style>\n",
       "<table border=\"1\" class=\"dataframe\">\n",
       "  <thead>\n",
       "    <tr style=\"text-align: right;\">\n",
       "      <th></th>\n",
       "      <th>open</th>\n",
       "      <th>close</th>\n",
       "      <th>high</th>\n",
       "      <th>low</th>\n",
       "      <th>volume</th>\n",
       "      <th>begin</th>\n",
       "      <th>ticker</th>\n",
       "    </tr>\n",
       "  </thead>\n",
       "  <tbody>\n",
       "    <tr>\n",
       "      <th>0</th>\n",
       "      <td>81.50</td>\n",
       "      <td>81.70</td>\n",
       "      <td>83.20</td>\n",
       "      <td>81.16</td>\n",
       "      <td>29755530</td>\n",
       "      <td>2020-06-19</td>\n",
       "      <td>AFLT</td>\n",
       "    </tr>\n",
       "    <tr>\n",
       "      <th>1</th>\n",
       "      <td>81.72</td>\n",
       "      <td>82.10</td>\n",
       "      <td>83.98</td>\n",
       "      <td>80.26</td>\n",
       "      <td>18502950</td>\n",
       "      <td>2020-06-22</td>\n",
       "      <td>AFLT</td>\n",
       "    </tr>\n",
       "    <tr>\n",
       "      <th>2</th>\n",
       "      <td>82.04</td>\n",
       "      <td>81.20</td>\n",
       "      <td>82.48</td>\n",
       "      <td>80.40</td>\n",
       "      <td>16848930</td>\n",
       "      <td>2020-06-23</td>\n",
       "      <td>AFLT</td>\n",
       "    </tr>\n",
       "    <tr>\n",
       "      <th>3</th>\n",
       "      <td>79.78</td>\n",
       "      <td>80.58</td>\n",
       "      <td>80.80</td>\n",
       "      <td>78.22</td>\n",
       "      <td>21559860</td>\n",
       "      <td>2020-06-25</td>\n",
       "      <td>AFLT</td>\n",
       "    </tr>\n",
       "    <tr>\n",
       "      <th>4</th>\n",
       "      <td>80.50</td>\n",
       "      <td>79.38</td>\n",
       "      <td>81.44</td>\n",
       "      <td>78.76</td>\n",
       "      <td>14677280</td>\n",
       "      <td>2020-06-26</td>\n",
       "      <td>AFLT</td>\n",
       "    </tr>\n",
       "    <tr>\n",
       "      <th>...</th>\n",
       "      <td>...</td>\n",
       "      <td>...</td>\n",
       "      <td>...</td>\n",
       "      <td>...</td>\n",
       "      <td>...</td>\n",
       "      <td>...</td>\n",
       "      <td>...</td>\n",
       "    </tr>\n",
       "    <tr>\n",
       "      <th>25937</th>\n",
       "      <td>75.10</td>\n",
       "      <td>75.74</td>\n",
       "      <td>75.96</td>\n",
       "      <td>74.61</td>\n",
       "      <td>49552606</td>\n",
       "      <td>2025-09-04</td>\n",
       "      <td>VTBR</td>\n",
       "    </tr>\n",
       "    <tr>\n",
       "      <th>25938</th>\n",
       "      <td>75.85</td>\n",
       "      <td>75.50</td>\n",
       "      <td>76.13</td>\n",
       "      <td>74.94</td>\n",
       "      <td>40701093</td>\n",
       "      <td>2025-09-05</td>\n",
       "      <td>VTBR</td>\n",
       "    </tr>\n",
       "    <tr>\n",
       "      <th>25939</th>\n",
       "      <td>75.59</td>\n",
       "      <td>75.64</td>\n",
       "      <td>75.71</td>\n",
       "      <td>75.35</td>\n",
       "      <td>1681425</td>\n",
       "      <td>2025-09-06</td>\n",
       "      <td>VTBR</td>\n",
       "    </tr>\n",
       "    <tr>\n",
       "      <th>25940</th>\n",
       "      <td>75.69</td>\n",
       "      <td>75.68</td>\n",
       "      <td>75.85</td>\n",
       "      <td>75.50</td>\n",
       "      <td>2186520</td>\n",
       "      <td>2025-09-07</td>\n",
       "      <td>VTBR</td>\n",
       "    </tr>\n",
       "    <tr>\n",
       "      <th>25941</th>\n",
       "      <td>75.68</td>\n",
       "      <td>75.23</td>\n",
       "      <td>76.05</td>\n",
       "      <td>74.85</td>\n",
       "      <td>31765976</td>\n",
       "      <td>2025-09-08</td>\n",
       "      <td>VTBR</td>\n",
       "    </tr>\n",
       "  </tbody>\n",
       "</table>\n",
       "<p>25942 rows × 7 columns</p>\n",
       "</div>"
      ],
      "text/plain": [
       "        open  close   high    low    volume       begin ticker\n",
       "0      81.50  81.70  83.20  81.16  29755530  2020-06-19   AFLT\n",
       "1      81.72  82.10  83.98  80.26  18502950  2020-06-22   AFLT\n",
       "2      82.04  81.20  82.48  80.40  16848930  2020-06-23   AFLT\n",
       "3      79.78  80.58  80.80  78.22  21559860  2020-06-25   AFLT\n",
       "4      80.50  79.38  81.44  78.76  14677280  2020-06-26   AFLT\n",
       "...      ...    ...    ...    ...       ...         ...    ...\n",
       "25937  75.10  75.74  75.96  74.61  49552606  2025-09-04   VTBR\n",
       "25938  75.85  75.50  76.13  74.94  40701093  2025-09-05   VTBR\n",
       "25939  75.59  75.64  75.71  75.35   1681425  2025-09-06   VTBR\n",
       "25940  75.69  75.68  75.85  75.50   2186520  2025-09-07   VTBR\n",
       "25941  75.68  75.23  76.05  74.85  31765976  2025-09-08   VTBR\n",
       "\n",
       "[25942 rows x 7 columns]"
      ]
     },
     "execution_count": 11,
     "metadata": {},
     "output_type": "execute_result"
    }
   ],
   "source": [
    "train = pd.read_csv('/kaggle/input/finam-data2-merge/train_all.csv')\n",
    "train"
   ]
  },
  {
   "cell_type": "code",
   "execution_count": 12,
   "metadata": {
    "execution": {
     "iopub.execute_input": "2025-10-04T17:16:02.857915Z",
     "iopub.status.busy": "2025-10-04T17:16:02.857407Z",
     "iopub.status.idle": "2025-10-04T17:16:05.465461Z",
     "shell.execute_reply": "2025-10-04T17:16:05.464831Z",
     "shell.execute_reply.started": "2025-10-04T17:16:02.857886Z"
    }
   },
   "outputs": [
    {
     "data": {
      "text/html": [
       "<div>\n",
       "<style scoped>\n",
       "    .dataframe tbody tr th:only-of-type {\n",
       "        vertical-align: middle;\n",
       "    }\n",
       "\n",
       "    .dataframe tbody tr th {\n",
       "        vertical-align: top;\n",
       "    }\n",
       "\n",
       "    .dataframe thead th {\n",
       "        text-align: right;\n",
       "    }\n",
       "</style>\n",
       "<table border=\"1\" class=\"dataframe\">\n",
       "  <thead>\n",
       "    <tr style=\"text-align: right;\">\n",
       "      <th></th>\n",
       "      <th>publish_date</th>\n",
       "      <th>title</th>\n",
       "      <th>publication</th>\n",
       "    </tr>\n",
       "  </thead>\n",
       "  <tbody>\n",
       "    <tr>\n",
       "      <th>0</th>\n",
       "      <td>2020-01-01 14:00:00</td>\n",
       "      <td>Ключевые российские нефтегазовые компании смот...</td>\n",
       "      <td>Тенденции в отрасли. Ключевые российские нефте...</td>\n",
       "    </tr>\n",
       "    <tr>\n",
       "      <th>1</th>\n",
       "      <td>2020-01-02 15:00:00</td>\n",
       "      <td>ММК выгодно отличает высокая экспозиция на вну...</td>\n",
       "      <td>Тенденции в отрасли. Ключевые российские стале...</td>\n",
       "    </tr>\n",
       "    <tr>\n",
       "      <th>2</th>\n",
       "      <td>2020-01-03 10:13:10</td>\n",
       "      <td>Контракты на поставку газа в Белоруссию и тран...</td>\n",
       "      <td>Председатель правления \"Газпрома\" Алексей Милл...</td>\n",
       "    </tr>\n",
       "    <tr>\n",
       "      <th>3</th>\n",
       "      <td>2020-01-03 13:26:29</td>\n",
       "      <td>ПАО \"ФосАгро\" -Внеочередное общее собрание</td>\n",
       "      <td>Дата и время ВОСА – 24.01.2020 23:59:59  Дата ...</td>\n",
       "    </tr>\n",
       "    <tr>\n",
       "      <th>4</th>\n",
       "      <td>2020-01-03 13:44:03</td>\n",
       "      <td>ПАО \"ММК\" - Внеочередное общее собрание- ИТОГИ</td>\n",
       "      <td>Дата и время собрания - 27.12.2019 00:00:00  Д...</td>\n",
       "    </tr>\n",
       "    <tr>\n",
       "      <th>...</th>\n",
       "      <td>...</td>\n",
       "      <td>...</td>\n",
       "      <td>...</td>\n",
       "    </tr>\n",
       "    <tr>\n",
       "      <th>27450</th>\n",
       "      <td>2025-09-05 19:20:50</td>\n",
       "      <td>Invesco Large Cap Value ETF испытывает большой...</td>\n",
       "      <td>Сегодня, рассматривая изменения в количестве а...</td>\n",
       "    </tr>\n",
       "    <tr>\n",
       "      <th>27451</th>\n",
       "      <td>2025-09-05 21:20:00</td>\n",
       "      <td>Финал недели оказался благоприятным для рынка ...</td>\n",
       "      <td>Финал недели на российском рынке прошел на опт...</td>\n",
       "    </tr>\n",
       "    <tr>\n",
       "      <th>27452</th>\n",
       "      <td>2025-09-06 09:34:00</td>\n",
       "      <td>Вторая партия газа с «Арктик СПГ 2» доставлена...</td>\n",
       "      <td>Второй танкер со сжиженным природным газом с п...</td>\n",
       "    </tr>\n",
       "    <tr>\n",
       "      <th>27453</th>\n",
       "      <td>2025-09-06 10:29:00</td>\n",
       "      <td>Индекс МосБиржи удерживается выше 2900 пунктов...</td>\n",
       "      <td>Российский рынок демонстрирует минимальные изм...</td>\n",
       "    </tr>\n",
       "    <tr>\n",
       "      <th>27454</th>\n",
       "      <td>2025-09-06 18:53:00</td>\n",
       "      <td>Вести с Востока, разочарование «Газпрома» и ра...</td>\n",
       "      <td>На уходящей неделе взгляд инвесторов был обращ...</td>\n",
       "    </tr>\n",
       "  </tbody>\n",
       "</table>\n",
       "<p>27455 rows × 3 columns</p>\n",
       "</div>"
      ],
      "text/plain": [
       "              publish_date                                              title  \\\n",
       "0      2020-01-01 14:00:00  Ключевые российские нефтегазовые компании смот...   \n",
       "1      2020-01-02 15:00:00  ММК выгодно отличает высокая экспозиция на вну...   \n",
       "2      2020-01-03 10:13:10  Контракты на поставку газа в Белоруссию и тран...   \n",
       "3      2020-01-03 13:26:29         ПАО \"ФосАгро\" -Внеочередное общее собрание   \n",
       "4      2020-01-03 13:44:03     ПАО \"ММК\" - Внеочередное общее собрание- ИТОГИ   \n",
       "...                    ...                                                ...   \n",
       "27450  2025-09-05 19:20:50  Invesco Large Cap Value ETF испытывает большой...   \n",
       "27451  2025-09-05 21:20:00  Финал недели оказался благоприятным для рынка ...   \n",
       "27452  2025-09-06 09:34:00  Вторая партия газа с «Арктик СПГ 2» доставлена...   \n",
       "27453  2025-09-06 10:29:00  Индекс МосБиржи удерживается выше 2900 пунктов...   \n",
       "27454  2025-09-06 18:53:00  Вести с Востока, разочарование «Газпрома» и ра...   \n",
       "\n",
       "                                             publication  \n",
       "0      Тенденции в отрасли. Ключевые российские нефте...  \n",
       "1      Тенденции в отрасли. Ключевые российские стале...  \n",
       "2      Председатель правления \"Газпрома\" Алексей Милл...  \n",
       "3      Дата и время ВОСА – 24.01.2020 23:59:59  Дата ...  \n",
       "4      Дата и время собрания - 27.12.2019 00:00:00  Д...  \n",
       "...                                                  ...  \n",
       "27450  Сегодня, рассматривая изменения в количестве а...  \n",
       "27451  Финал недели на российском рынке прошел на опт...  \n",
       "27452  Второй танкер со сжиженным природным газом с п...  \n",
       "27453  Российский рынок демонстрирует минимальные изм...  \n",
       "27454  На уходящей неделе взгляд инвесторов был обращ...  \n",
       "\n",
       "[27455 rows x 3 columns]"
      ]
     },
     "execution_count": 12,
     "metadata": {},
     "output_type": "execute_result"
    }
   ],
   "source": [
    "train_new = pd.read_csv('/kaggle/input/finam-data2-merge/train_all_new.csv')\n",
    "train_new"
   ]
  },
  {
   "cell_type": "code",
   "execution_count": null,
   "metadata": {},
   "outputs": [],
   "source": []
  },
  {
   "cell_type": "code",
   "execution_count": 13,
   "metadata": {
    "execution": {
     "iopub.execute_input": "2025-10-04T17:16:32.095146Z",
     "iopub.status.busy": "2025-10-04T17:16:32.094864Z",
     "iopub.status.idle": "2025-10-04T17:16:33.721788Z",
     "shell.execute_reply": "2025-10-04T17:16:33.721016Z",
     "shell.execute_reply.started": "2025-10-04T17:16:32.095126Z"
    }
   },
   "outputs": [],
   "source": [
    "# --- Конфигурация ---\n",
    "OPENROUTER_API_KEY = \"тут ключ от openapirouter\"\n",
    "\n",
    "# Параметры для защиты API\n",
    "MAX_CONCURRENT_REQUESTS = 200\n",
    "REQUESTS_PER_MINUTE = 1000\n",
    "BATCH_SIZE = 100\n",
    "RETRY_ATTEMPTS = 3\n",
    "RETRY_DELAY = 2\n",
    "\n",
    "# Инициализация клиента\n",
    "client = AsyncOpenAI(\n",
    "    base_url=\"https://openrouter.ai/api/v1\",\n",
    "    api_key=OPENROUTER_API_KEY\n",
    ")\n",
    "\n",
    "# --- Семафор для контроля параллельности ---\n",
    "semaphore = asyncio.Semaphore(MAX_CONCURRENT_REQUESTS)\n",
    "\n",
    "# --- Контроль rate limit ---\n",
    "class RateLimiter:\n",
    "    def __init__(self, max_per_minute):\n",
    "        self.max_per_minute = max_per_minute\n",
    "        self.requests = []\n",
    "    \n",
    "    async def wait_if_needed(self):\n",
    "        now = time.time()\n",
    "        # Удаляем запросы старше минуты\n",
    "        self.requests = [req_time for req_time in self.requests if now - req_time < 60]\n",
    "        \n",
    "        if len(self.requests) >= self.max_per_minute:\n",
    "            sleep_time = 60 - (now - self.requests[0]) + 0.1\n",
    "            if sleep_time > 0:\n",
    "                await asyncio.sleep(sleep_time)\n",
    "                self.requests = []\n",
    "        \n",
    "        self.requests.append(time.time())\n",
    "\n",
    "rate_limiter = RateLimiter(REQUESTS_PER_MINUTE)\n",
    "\n",
    "# --- Асинхронная функция классификации ---\n",
    "async def get_ticker_async(title: str, text: str, tickers_str: str, \n",
    "                          valid_tickers: list, attempt: int = 0) -> str:\n",
    "    \"\"\"\n",
    "    Асинхронная классификация новости с retry логикой\n",
    "    \"\"\"\n",
    "    async with semaphore:\n",
    "        await rate_limiter.wait_if_needed()\n",
    "        \n",
    "        system_prompt = (\n",
    "            \"You are an expert analyst of the Russian stock market with deep knowledge of publicly traded companies. \"\n",
    "            \"Your task is to identify which company a news article primarily focuses on by selecting the correct ticker from a provided list. \"\n",
    "            \"You must be precise and distinguish between primary subjects and secondary mentions.\"\n",
    "        )\n",
    "        \n",
    "        user_prompt = f\"\"\"\n",
    "Analyze the news article below and identify the PRIMARY company it discusses.\n",
    "\n",
    "**Available tickers:** {tickers_str}\n",
    "\n",
    "**NEWS ARTICLE:**\n",
    "Title: \"{title}\"\n",
    "Body: \"{text}\"\n",
    "\n",
    "**ANALYSIS RULES:**\n",
    "1. Identify the MAIN subject of the article - the company that is the primary focus\n",
    "2. If multiple companies are mentioned, select the one that is the central topic\n",
    "3. Ignore companies mentioned as examples, comparisons, or minor participants\n",
    "4. If the news is about general market trends, macroeconomics, regulations, or doesn't specifically focus on any company from the list, return 'None'\n",
    "5. If a company is mentioned through its subsidiaries, divisions, or projects, still return its ticker if it's in the list\n",
    "6. News about mergers/acquisitions should return the ticker of the acquiring company or the main subject\n",
    "7. Analyst recommendations, earnings reports, dividend announcements should return the ticker of the company being discussed\n",
    "\n",
    "**EXAMPLES:**\n",
    "Input: \"Сбербанк увеличил чистую прибыль на 15% в первом квартале\"\n",
    "Output: SBER\n",
    "\n",
    "Return ONLY the ticker symbol or 'None'. No explanations, no additional text, no punctuation.\n",
    "\n",
    "**Your answer:**\"\"\"\n",
    "        \n",
    "        try:\n",
    "            response = await client.chat.completions.create(\n",
    "                model=\"openai/gpt-4o-mini\",\n",
    "                messages=[\n",
    "                    {\"role\": \"system\", \"content\": system_prompt},\n",
    "                    {\"role\": \"user\", \"content\": user_prompt}\n",
    "                ],\n",
    "                temperature=0,\n",
    "                max_tokens=10,\n",
    "                timeout=30.0\n",
    "            )\n",
    "            \n",
    "            ticker = response.choices[0].message.content.strip()\n",
    "            ticker = ticker.replace('.', '').replace(',', '').upper()\n",
    "            \n",
    "            if ticker in valid_tickers or ticker == 'NONE':\n",
    "                return ticker\n",
    "            else:\n",
    "                return 'None'\n",
    "                \n",
    "        except Exception as e:\n",
    "            if attempt < RETRY_ATTEMPTS:\n",
    "                await asyncio.sleep(RETRY_DELAY * (attempt + 1))\n",
    "                return await get_ticker_async(title, text, tickers_str, \n",
    "                                             valid_tickers, attempt + 1)\n",
    "            else:\n",
    "                print(f\"Ошибка после {RETRY_ATTEMPTS} попыток: {str(e)}\")\n",
    "                return 'None'\n",
    "\n",
    "# --- Функция для обработки батча ---\n",
    "async def process_batch(batch_data: List[Tuple], tickers_str: str, \n",
    "                       valid_tickers: list) -> List[str]:\n",
    "    \"\"\"\n",
    "    Обработка батча новостей\n",
    "    \"\"\"\n",
    "    tasks = []\n",
    "    for idx, title, text in batch_data:\n",
    "        task = get_ticker_async(title, text, tickers_str, valid_tickers)\n",
    "        tasks.append(task)\n",
    "    \n",
    "    results = await tqdm_asyncio.gather(*tasks, desc=f\"Обработка батча\")\n",
    "    return results\n",
    "\n",
    "# --- Основная функция ---\n",
    "async def classify_news_async(news_df: pd.DataFrame, target_tickers: np.ndarray) -> pd.DataFrame:\n",
    "    \"\"\"\n",
    "    Главная функция для классификации всех новостей\n",
    "    \"\"\"\n",
    "    tickers_str = \", \".join(sorted(target_tickers))\n",
    "    valid_tickers_list = list(target_tickers)\n",
    "    \n",
    "    # Подготовка данных\n",
    "    batch_data = [\n",
    "        (idx, row['title'], row['publication'])\n",
    "        for idx, row in news_df.iterrows()\n",
    "    ]\n",
    "    \n",
    "    # Разбиваем на батчи\n",
    "    all_results = []\n",
    "    for i in range(0, len(batch_data), BATCH_SIZE):\n",
    "        batch = batch_data[i:i + BATCH_SIZE]\n",
    "        print(f\"\\nОбработка батча {i//BATCH_SIZE + 1}/{(len(batch_data)-1)//BATCH_SIZE + 1}\")\n",
    "        \n",
    "        batch_results = await process_batch(batch, tickers_str, valid_tickers_list)\n",
    "        all_results.extend(batch_results)\n",
    "        \n",
    "        # Небольшая пауза между батчами\n",
    "        if i + BATCH_SIZE < len(batch_data):\n",
    "            await asyncio.sleep(1)\n",
    "    \n",
    "    # Добавляем результаты в датафрейм\n",
    "    news_df['ticker'] = all_results\n",
    "    return news_df\n",
    "\n",
    "# --- Запуск ---\n",
    "def main(news_df: pd.DataFrame, df: pd.DataFrame):\n",
    "    \"\"\"\n",
    "    Обертка для запуска асинхронной обработки\n",
    "    \"\"\"\n",
    "    # Получаем уникальные тикеры\n",
    "    target_tickers = np.unique(df['ticker'])\n",
    "    \n",
    "    print(f\"Найдено {len(target_tickers)} уникальных тикеров\")\n",
    "    print(f\"Всего новостей для классификации: {len(news_df)}\")\n",
    "    print(f\"Параметры обработки:\")\n",
    "    print(f\"  - Максимум одновременных запросов: {MAX_CONCURRENT_REQUESTS}\")\n",
    "    print(f\"  - Лимит запросов в минуту: {REQUESTS_PER_MINUTE}\")\n",
    "    print(f\"  - Размер батча: {BATCH_SIZE}\")\n",
    "    print(f\"  - Попыток при ошибке: {RETRY_ATTEMPTS}\")\n",
    "    \n",
    "    start_time = time.time()\n",
    "    \n",
    "    # Запускаем асинхронную обработку\n",
    "    result_df = asyncio.run(classify_news_async(news_df.copy(), target_tickers))\n",
    "    \n",
    "    elapsed_time = time.time() - start_time\n",
    "    print(f\"\\n✓ Обработка завершена за {elapsed_time/60:.2f} минут\")\n",
    "    print(f\"✓ Обработано {len(result_df)} новостей\")\n",
    "    print(f\"✓ Классифицировано: {(result_df['ticker'] != 'None').sum()} новостей\")\n",
    "    print(f\"✓ Не удалось классифицировать: {(result_df['ticker'] == 'None').sum()} новостей\")\n",
    "    \n",
    "    return result_df\n",
    "\n"
   ]
  },
  {
   "cell_type": "code",
   "execution_count": 14,
   "metadata": {
    "execution": {
     "iopub.execute_input": "2025-10-04T17:16:35.546128Z",
     "iopub.status.busy": "2025-10-04T17:16:35.545745Z",
     "iopub.status.idle": "2025-10-04T17:28:06.034864Z",
     "shell.execute_reply": "2025-10-04T17:28:06.033853Z",
     "shell.execute_reply.started": "2025-10-04T17:16:35.546106Z"
    },
    "scrolled": true
   },
   "outputs": [
    {
     "name": "stdout",
     "output_type": "stream",
     "text": [
      "Найдено 19 уникальных тикеров\n",
      "Всего новостей для классификации: 27455\n",
      "Параметры обработки:\n",
      "  - Максимум одновременных запросов: 200\n",
      "  - Лимит запросов в минуту: 1000\n",
      "  - Размер батча: 100\n",
      "  - Попыток при ошибке: 3\n",
      "\n",
      "Обработка батча 1/275\n"
     ]
    },
    {
     "name": "stderr",
     "output_type": "stream",
     "text": [
      "Обработка батча: 100%|██████████| 100/100 [00:02<00:00, 42.45it/s]\n"
     ]
    },
    {
     "name": "stdout",
     "output_type": "stream",
     "text": [
      "\n",
      "Обработка батча 2/275\n"
     ]
    },
    {
     "name": "stderr",
     "output_type": "stream",
     "text": [
      "Обработка батча: 100%|██████████| 100/100 [00:04<00:00, 23.94it/s]\n"
     ]
    },
    {
     "name": "stdout",
     "output_type": "stream",
     "text": [
      "\n",
      "Обработка батча 3/275\n"
     ]
    },
    {
     "name": "stderr",
     "output_type": "stream",
     "text": [
      "Обработка батча: 100%|██████████| 100/100 [00:02<00:00, 47.31it/s]\n"
     ]
    },
    {
     "name": "stdout",
     "output_type": "stream",
     "text": [
      "\n",
      "Обработка батча 4/275\n"
     ]
    },
    {
     "name": "stderr",
     "output_type": "stream",
     "text": [
      "Обработка батча: 100%|██████████| 100/100 [00:13<00:00,  7.46it/s]\n"
     ]
    },
    {
     "name": "stdout",
     "output_type": "stream",
     "text": [
      "\n",
      "Обработка батча 5/275\n"
     ]
    },
    {
     "name": "stderr",
     "output_type": "stream",
     "text": [
      "Обработка батча: 100%|██████████| 100/100 [00:02<00:00, 48.19it/s]\n"
     ]
    },
    {
     "name": "stdout",
     "output_type": "stream",
     "text": [
      "\n",
      "Обработка батча 6/275\n"
     ]
    },
    {
     "name": "stderr",
     "output_type": "stream",
     "text": [
      "Обработка батча: 100%|██████████| 100/100 [00:04<00:00, 23.17it/s]\n"
     ]
    },
    {
     "name": "stdout",
     "output_type": "stream",
     "text": [
      "\n",
      "Обработка батча 7/275\n"
     ]
    },
    {
     "name": "stderr",
     "output_type": "stream",
     "text": [
      "Обработка батча: 100%|██████████| 100/100 [00:01<00:00, 52.40it/s]\n"
     ]
    },
    {
     "name": "stdout",
     "output_type": "stream",
     "text": [
      "\n",
      "Обработка батча 8/275\n"
     ]
    },
    {
     "name": "stderr",
     "output_type": "stream",
     "text": [
      "Обработка батча: 100%|██████████| 100/100 [00:04<00:00, 20.49it/s]\n"
     ]
    },
    {
     "name": "stdout",
     "output_type": "stream",
     "text": [
      "\n",
      "Обработка батча 9/275\n"
     ]
    },
    {
     "name": "stderr",
     "output_type": "stream",
     "text": [
      "Обработка батча: 100%|██████████| 100/100 [00:03<00:00, 29.42it/s]\n"
     ]
    },
    {
     "name": "stdout",
     "output_type": "stream",
     "text": [
      "\n",
      "Обработка батча 10/275\n"
     ]
    },
    {
     "name": "stderr",
     "output_type": "stream",
     "text": [
      "Обработка батча: 100%|██████████| 100/100 [00:03<00:00, 28.47it/s]\n"
     ]
    },
    {
     "name": "stdout",
     "output_type": "stream",
     "text": [
      "\n",
      "Обработка батча 11/275\n"
     ]
    },
    {
     "name": "stderr",
     "output_type": "stream",
     "text": [
      "Обработка батча: 100%|██████████| 100/100 [00:10<00:00,  9.43it/s]\n"
     ]
    },
    {
     "name": "stdout",
     "output_type": "stream",
     "text": [
      "\n",
      "Обработка батча 12/275\n"
     ]
    },
    {
     "name": "stderr",
     "output_type": "stream",
     "text": [
      "Обработка батча: 100%|██████████| 100/100 [00:04<00:00, 23.88it/s]\n"
     ]
    },
    {
     "name": "stdout",
     "output_type": "stream",
     "text": [
      "\n",
      "Обработка батча 13/275\n"
     ]
    },
    {
     "name": "stderr",
     "output_type": "stream",
     "text": [
      "Обработка батча: 100%|██████████| 100/100 [00:02<00:00, 36.69it/s]\n"
     ]
    },
    {
     "name": "stdout",
     "output_type": "stream",
     "text": [
      "\n",
      "Обработка батча 14/275\n"
     ]
    },
    {
     "name": "stderr",
     "output_type": "stream",
     "text": [
      "Обработка батча: 100%|██████████| 100/100 [00:05<00:00, 19.61it/s]\n"
     ]
    },
    {
     "name": "stdout",
     "output_type": "stream",
     "text": [
      "\n",
      "Обработка батча 15/275\n"
     ]
    },
    {
     "name": "stderr",
     "output_type": "stream",
     "text": [
      "Обработка батча: 100%|██████████| 100/100 [00:02<00:00, 34.97it/s]\n"
     ]
    },
    {
     "name": "stdout",
     "output_type": "stream",
     "text": [
      "\n",
      "Обработка батча 16/275\n"
     ]
    },
    {
     "name": "stderr",
     "output_type": "stream",
     "text": [
      "Обработка батча: 100%|██████████| 100/100 [00:04<00:00, 20.71it/s]\n"
     ]
    },
    {
     "name": "stdout",
     "output_type": "stream",
     "text": [
      "\n",
      "Обработка батча 17/275\n"
     ]
    },
    {
     "name": "stderr",
     "output_type": "stream",
     "text": [
      "Обработка батча: 100%|██████████| 100/100 [00:03<00:00, 30.24it/s]\n"
     ]
    },
    {
     "name": "stdout",
     "output_type": "stream",
     "text": [
      "\n",
      "Обработка батча 18/275\n"
     ]
    },
    {
     "name": "stderr",
     "output_type": "stream",
     "text": [
      "Обработка батча: 100%|██████████| 100/100 [00:04<00:00, 21.61it/s]\n"
     ]
    },
    {
     "name": "stdout",
     "output_type": "stream",
     "text": [
      "\n",
      "Обработка батча 19/275\n"
     ]
    },
    {
     "name": "stderr",
     "output_type": "stream",
     "text": [
      "Обработка батча: 100%|██████████| 100/100 [00:03<00:00, 26.18it/s]\n"
     ]
    },
    {
     "name": "stdout",
     "output_type": "stream",
     "text": [
      "\n",
      "Обработка батча 20/275\n"
     ]
    },
    {
     "name": "stderr",
     "output_type": "stream",
     "text": [
      "Обработка батча: 100%|██████████| 100/100 [00:04<00:00, 21.95it/s]\n"
     ]
    },
    {
     "name": "stdout",
     "output_type": "stream",
     "text": [
      "\n",
      "Обработка батча 21/275\n"
     ]
    },
    {
     "name": "stderr",
     "output_type": "stream",
     "text": [
      "Обработка батча: 100%|██████████| 100/100 [00:12<00:00,  8.16it/s]\n"
     ]
    },
    {
     "name": "stdout",
     "output_type": "stream",
     "text": [
      "\n",
      "Обработка батча 22/275\n"
     ]
    },
    {
     "name": "stderr",
     "output_type": "stream",
     "text": [
      "Обработка батча: 100%|██████████| 100/100 [00:02<00:00, 43.97it/s]\n"
     ]
    },
    {
     "name": "stdout",
     "output_type": "stream",
     "text": [
      "\n",
      "Обработка батча 23/275\n"
     ]
    },
    {
     "name": "stderr",
     "output_type": "stream",
     "text": [
      "Обработка батча: 100%|██████████| 100/100 [00:04<00:00, 24.91it/s]\n"
     ]
    },
    {
     "name": "stdout",
     "output_type": "stream",
     "text": [
      "\n",
      "Обработка батча 24/275\n"
     ]
    },
    {
     "name": "stderr",
     "output_type": "stream",
     "text": [
      "Обработка батча: 100%|██████████| 100/100 [00:01<00:00, 53.69it/s]\n"
     ]
    },
    {
     "name": "stdout",
     "output_type": "stream",
     "text": [
      "\n",
      "Обработка батча 25/275\n"
     ]
    },
    {
     "name": "stderr",
     "output_type": "stream",
     "text": [
      "Обработка батча: 100%|██████████| 100/100 [00:05<00:00, 18.75it/s]\n"
     ]
    },
    {
     "name": "stdout",
     "output_type": "stream",
     "text": [
      "\n",
      "Обработка батча 26/275\n"
     ]
    },
    {
     "name": "stderr",
     "output_type": "stream",
     "text": [
      "Обработка батча: 100%|██████████| 100/100 [00:02<00:00, 38.99it/s]\n"
     ]
    },
    {
     "name": "stdout",
     "output_type": "stream",
     "text": [
      "\n",
      "Обработка батча 27/275\n"
     ]
    },
    {
     "name": "stderr",
     "output_type": "stream",
     "text": [
      "Обработка батча: 100%|██████████| 100/100 [00:03<00:00, 28.37it/s]\n"
     ]
    },
    {
     "name": "stdout",
     "output_type": "stream",
     "text": [
      "\n",
      "Обработка батча 28/275\n"
     ]
    },
    {
     "name": "stderr",
     "output_type": "stream",
     "text": [
      "Обработка батча: 100%|██████████| 100/100 [00:01<00:00, 55.48it/s]\n"
     ]
    },
    {
     "name": "stdout",
     "output_type": "stream",
     "text": [
      "\n",
      "Обработка батча 29/275\n"
     ]
    },
    {
     "name": "stderr",
     "output_type": "stream",
     "text": [
      "Обработка батча: 100%|██████████| 100/100 [00:04<00:00, 24.71it/s]\n"
     ]
    },
    {
     "name": "stdout",
     "output_type": "stream",
     "text": [
      "\n",
      "Обработка батча 30/275\n"
     ]
    },
    {
     "name": "stderr",
     "output_type": "stream",
     "text": [
      "Обработка батча: 100%|██████████| 100/100 [00:02<00:00, 43.48it/s]\n"
     ]
    },
    {
     "name": "stdout",
     "output_type": "stream",
     "text": [
      "\n",
      "Обработка батча 31/275\n"
     ]
    },
    {
     "name": "stderr",
     "output_type": "stream",
     "text": [
      "Обработка батча: 100%|██████████| 100/100 [00:22<00:00,  4.47it/s]\n"
     ]
    },
    {
     "name": "stdout",
     "output_type": "stream",
     "text": [
      "\n",
      "Обработка батча 32/275\n"
     ]
    },
    {
     "name": "stderr",
     "output_type": "stream",
     "text": [
      "Обработка батча: 100%|██████████| 100/100 [00:01<00:00, 58.27it/s]\n"
     ]
    },
    {
     "name": "stdout",
     "output_type": "stream",
     "text": [
      "\n",
      "Обработка батча 33/275\n"
     ]
    },
    {
     "name": "stderr",
     "output_type": "stream",
     "text": [
      "Обработка батча: 100%|██████████| 100/100 [00:03<00:00, 27.42it/s]\n"
     ]
    },
    {
     "name": "stdout",
     "output_type": "stream",
     "text": [
      "\n",
      "Обработка батча 34/275\n"
     ]
    },
    {
     "name": "stderr",
     "output_type": "stream",
     "text": [
      "Обработка батча: 100%|██████████| 100/100 [00:02<00:00, 42.38it/s]\n"
     ]
    },
    {
     "name": "stdout",
     "output_type": "stream",
     "text": [
      "\n",
      "Обработка батча 35/275\n"
     ]
    },
    {
     "name": "stderr",
     "output_type": "stream",
     "text": [
      "Обработка батча: 100%|██████████| 100/100 [00:03<00:00, 27.42it/s]\n"
     ]
    },
    {
     "name": "stdout",
     "output_type": "stream",
     "text": [
      "\n",
      "Обработка батча 36/275\n"
     ]
    },
    {
     "name": "stderr",
     "output_type": "stream",
     "text": [
      "Обработка батча: 100%|██████████| 100/100 [00:01<00:00, 55.90it/s]\n"
     ]
    },
    {
     "name": "stdout",
     "output_type": "stream",
     "text": [
      "\n",
      "Обработка батча 37/275\n"
     ]
    },
    {
     "name": "stderr",
     "output_type": "stream",
     "text": [
      "Обработка батча: 100%|██████████| 100/100 [00:04<00:00, 24.52it/s]\n"
     ]
    },
    {
     "name": "stdout",
     "output_type": "stream",
     "text": [
      "\n",
      "Обработка батча 38/275\n"
     ]
    },
    {
     "name": "stderr",
     "output_type": "stream",
     "text": [
      "Обработка батча: 100%|██████████| 100/100 [00:02<00:00, 36.10it/s]\n"
     ]
    },
    {
     "name": "stdout",
     "output_type": "stream",
     "text": [
      "\n",
      "Обработка батча 39/275\n"
     ]
    },
    {
     "name": "stderr",
     "output_type": "stream",
     "text": [
      "Обработка батча: 100%|██████████| 100/100 [00:03<00:00, 27.02it/s]\n"
     ]
    },
    {
     "name": "stdout",
     "output_type": "stream",
     "text": [
      "\n",
      "Обработка батча 40/275\n"
     ]
    },
    {
     "name": "stderr",
     "output_type": "stream",
     "text": [
      "Обработка батча: 100%|██████████| 100/100 [00:03<00:00, 29.07it/s]\n"
     ]
    },
    {
     "name": "stdout",
     "output_type": "stream",
     "text": [
      "\n",
      "Обработка батча 41/275\n"
     ]
    },
    {
     "name": "stderr",
     "output_type": "stream",
     "text": [
      "Обработка батча: 100%|██████████| 100/100 [00:22<00:00,  4.39it/s]\n"
     ]
    },
    {
     "name": "stdout",
     "output_type": "stream",
     "text": [
      "\n",
      "Обработка батча 42/275\n"
     ]
    },
    {
     "name": "stderr",
     "output_type": "stream",
     "text": [
      "Обработка батча: 100%|██████████| 100/100 [00:05<00:00, 18.44it/s]\n"
     ]
    },
    {
     "name": "stdout",
     "output_type": "stream",
     "text": [
      "\n",
      "Обработка батча 43/275\n"
     ]
    },
    {
     "name": "stderr",
     "output_type": "stream",
     "text": [
      "Обработка батча: 100%|██████████| 100/100 [00:05<00:00, 18.20it/s]\n"
     ]
    },
    {
     "name": "stdout",
     "output_type": "stream",
     "text": [
      "\n",
      "Обработка батча 44/275\n"
     ]
    },
    {
     "name": "stderr",
     "output_type": "stream",
     "text": [
      "Обработка батча: 100%|██████████| 100/100 [00:03<00:00, 28.68it/s]\n"
     ]
    },
    {
     "name": "stdout",
     "output_type": "stream",
     "text": [
      "\n",
      "Обработка батча 45/275\n"
     ]
    },
    {
     "name": "stderr",
     "output_type": "stream",
     "text": [
      "Обработка батча: 100%|██████████| 100/100 [00:02<00:00, 33.40it/s]\n"
     ]
    },
    {
     "name": "stdout",
     "output_type": "stream",
     "text": [
      "\n",
      "Обработка батча 46/275\n"
     ]
    },
    {
     "name": "stderr",
     "output_type": "stream",
     "text": [
      "Обработка батча: 100%|██████████| 100/100 [00:02<00:00, 35.37it/s]\n"
     ]
    },
    {
     "name": "stdout",
     "output_type": "stream",
     "text": [
      "\n",
      "Обработка батча 47/275\n"
     ]
    },
    {
     "name": "stderr",
     "output_type": "stream",
     "text": [
      "Обработка батча: 100%|██████████| 100/100 [00:05<00:00, 17.00it/s]\n"
     ]
    },
    {
     "name": "stdout",
     "output_type": "stream",
     "text": [
      "\n",
      "Обработка батча 48/275\n"
     ]
    },
    {
     "name": "stderr",
     "output_type": "stream",
     "text": [
      "Обработка батча: 100%|██████████| 100/100 [00:01<00:00, 55.02it/s]\n"
     ]
    },
    {
     "name": "stdout",
     "output_type": "stream",
     "text": [
      "\n",
      "Обработка батча 49/275\n"
     ]
    },
    {
     "name": "stderr",
     "output_type": "stream",
     "text": [
      "Обработка батча: 100%|██████████| 100/100 [00:04<00:00, 22.33it/s]\n"
     ]
    },
    {
     "name": "stdout",
     "output_type": "stream",
     "text": [
      "\n",
      "Обработка батча 50/275\n"
     ]
    },
    {
     "name": "stderr",
     "output_type": "stream",
     "text": [
      "Обработка батча: 100%|██████████| 100/100 [00:05<00:00, 18.49it/s]\n"
     ]
    },
    {
     "name": "stdout",
     "output_type": "stream",
     "text": [
      "\n",
      "Обработка батча 51/275\n"
     ]
    },
    {
     "name": "stderr",
     "output_type": "stream",
     "text": [
      "Обработка батча: 100%|██████████| 100/100 [00:12<00:00,  8.22it/s]\n"
     ]
    },
    {
     "name": "stdout",
     "output_type": "stream",
     "text": [
      "\n",
      "Обработка батча 52/275\n"
     ]
    },
    {
     "name": "stderr",
     "output_type": "stream",
     "text": [
      "Обработка батча: 100%|██████████| 100/100 [00:03<00:00, 27.36it/s]\n"
     ]
    },
    {
     "name": "stdout",
     "output_type": "stream",
     "text": [
      "\n",
      "Обработка батча 53/275\n"
     ]
    },
    {
     "name": "stderr",
     "output_type": "stream",
     "text": [
      "Обработка батча: 100%|██████████| 100/100 [00:04<00:00, 24.56it/s]\n"
     ]
    },
    {
     "name": "stdout",
     "output_type": "stream",
     "text": [
      "\n",
      "Обработка батча 54/275\n"
     ]
    },
    {
     "name": "stderr",
     "output_type": "stream",
     "text": [
      "Обработка батча: 100%|██████████| 100/100 [00:03<00:00, 26.13it/s]\n"
     ]
    },
    {
     "name": "stdout",
     "output_type": "stream",
     "text": [
      "\n",
      "Обработка батча 55/275\n"
     ]
    },
    {
     "name": "stderr",
     "output_type": "stream",
     "text": [
      "Обработка батча: 100%|██████████| 100/100 [00:01<00:00, 54.75it/s]\n"
     ]
    },
    {
     "name": "stdout",
     "output_type": "stream",
     "text": [
      "\n",
      "Обработка батча 56/275\n"
     ]
    },
    {
     "name": "stderr",
     "output_type": "stream",
     "text": [
      "Обработка батча: 100%|██████████| 100/100 [00:04<00:00, 23.86it/s]\n"
     ]
    },
    {
     "name": "stdout",
     "output_type": "stream",
     "text": [
      "\n",
      "Обработка батча 57/275\n"
     ]
    },
    {
     "name": "stderr",
     "output_type": "stream",
     "text": [
      "Обработка батча: 100%|██████████| 100/100 [00:02<00:00, 47.93it/s]\n"
     ]
    },
    {
     "name": "stdout",
     "output_type": "stream",
     "text": [
      "\n",
      "Обработка батча 58/275\n"
     ]
    },
    {
     "name": "stderr",
     "output_type": "stream",
     "text": [
      "Обработка батча: 100%|██████████| 100/100 [00:06<00:00, 15.99it/s]\n"
     ]
    },
    {
     "name": "stdout",
     "output_type": "stream",
     "text": [
      "\n",
      "Обработка батча 59/275\n"
     ]
    },
    {
     "name": "stderr",
     "output_type": "stream",
     "text": [
      "Обработка батча: 100%|██████████| 100/100 [00:01<00:00, 52.63it/s]\n"
     ]
    },
    {
     "name": "stdout",
     "output_type": "stream",
     "text": [
      "\n",
      "Обработка батча 60/275\n"
     ]
    },
    {
     "name": "stderr",
     "output_type": "stream",
     "text": [
      "Обработка батча: 100%|██████████| 100/100 [00:05<00:00, 17.70it/s]\n"
     ]
    },
    {
     "name": "stdout",
     "output_type": "stream",
     "text": [
      "\n",
      "Обработка батча 61/275\n"
     ]
    },
    {
     "name": "stderr",
     "output_type": "stream",
     "text": [
      "Обработка батча: 100%|██████████| 100/100 [00:17<00:00,  5.84it/s]\n"
     ]
    },
    {
     "name": "stdout",
     "output_type": "stream",
     "text": [
      "\n",
      "Обработка батча 62/275\n"
     ]
    },
    {
     "name": "stderr",
     "output_type": "stream",
     "text": [
      "Обработка батча: 100%|██████████| 100/100 [00:03<00:00, 27.66it/s]\n"
     ]
    },
    {
     "name": "stdout",
     "output_type": "stream",
     "text": [
      "\n",
      "Обработка батча 63/275\n"
     ]
    },
    {
     "name": "stderr",
     "output_type": "stream",
     "text": [
      "Обработка батча: 100%|██████████| 100/100 [00:03<00:00, 31.45it/s]\n"
     ]
    },
    {
     "name": "stdout",
     "output_type": "stream",
     "text": [
      "\n",
      "Обработка батча 64/275\n"
     ]
    },
    {
     "name": "stderr",
     "output_type": "stream",
     "text": [
      "Обработка батча: 100%|██████████| 100/100 [00:02<00:00, 38.69it/s]\n"
     ]
    },
    {
     "name": "stdout",
     "output_type": "stream",
     "text": [
      "\n",
      "Обработка батча 65/275\n"
     ]
    },
    {
     "name": "stderr",
     "output_type": "stream",
     "text": [
      "Обработка батча: 100%|██████████| 100/100 [00:02<00:00, 40.33it/s]\n"
     ]
    },
    {
     "name": "stdout",
     "output_type": "stream",
     "text": [
      "\n",
      "Обработка батча 66/275\n"
     ]
    },
    {
     "name": "stderr",
     "output_type": "stream",
     "text": [
      "Обработка батча: 100%|██████████| 100/100 [00:04<00:00, 22.44it/s]\n"
     ]
    },
    {
     "name": "stdout",
     "output_type": "stream",
     "text": [
      "\n",
      "Обработка батча 67/275\n"
     ]
    },
    {
     "name": "stderr",
     "output_type": "stream",
     "text": [
      "Обработка батча: 100%|██████████| 100/100 [00:02<00:00, 48.05it/s]\n"
     ]
    },
    {
     "name": "stdout",
     "output_type": "stream",
     "text": [
      "\n",
      "Обработка батча 68/275\n"
     ]
    },
    {
     "name": "stderr",
     "output_type": "stream",
     "text": [
      "Обработка батча: 100%|██████████| 100/100 [00:05<00:00, 19.36it/s]\n"
     ]
    },
    {
     "name": "stdout",
     "output_type": "stream",
     "text": [
      "\n",
      "Обработка батча 69/275\n"
     ]
    },
    {
     "name": "stderr",
     "output_type": "stream",
     "text": [
      "Обработка батча: 100%|██████████| 100/100 [00:03<00:00, 32.19it/s]\n"
     ]
    },
    {
     "name": "stdout",
     "output_type": "stream",
     "text": [
      "\n",
      "Обработка батча 70/275\n"
     ]
    },
    {
     "name": "stderr",
     "output_type": "stream",
     "text": [
      "Обработка батча: 100%|██████████| 100/100 [00:05<00:00, 18.22it/s]\n"
     ]
    },
    {
     "name": "stdout",
     "output_type": "stream",
     "text": [
      "\n",
      "Обработка батча 71/275\n"
     ]
    },
    {
     "name": "stderr",
     "output_type": "stream",
     "text": [
      "Обработка батча: 100%|██████████| 100/100 [00:17<00:00,  5.70it/s]\n"
     ]
    },
    {
     "name": "stdout",
     "output_type": "stream",
     "text": [
      "\n",
      "Обработка батча 72/275\n"
     ]
    },
    {
     "name": "stderr",
     "output_type": "stream",
     "text": [
      "Обработка батча: 100%|██████████| 100/100 [00:06<00:00, 15.30it/s]\n"
     ]
    },
    {
     "name": "stdout",
     "output_type": "stream",
     "text": [
      "\n",
      "Обработка батча 73/275\n"
     ]
    },
    {
     "name": "stderr",
     "output_type": "stream",
     "text": [
      "Обработка батча: 100%|██████████| 100/100 [00:04<00:00, 21.08it/s]\n"
     ]
    },
    {
     "name": "stdout",
     "output_type": "stream",
     "text": [
      "\n",
      "Обработка батча 74/275\n"
     ]
    },
    {
     "name": "stderr",
     "output_type": "stream",
     "text": [
      "Обработка батча: 100%|██████████| 100/100 [00:05<00:00, 19.25it/s]\n"
     ]
    },
    {
     "name": "stdout",
     "output_type": "stream",
     "text": [
      "\n",
      "Обработка батча 75/275\n"
     ]
    },
    {
     "name": "stderr",
     "output_type": "stream",
     "text": [
      "Обработка батча: 100%|██████████| 100/100 [00:05<00:00, 19.19it/s]\n"
     ]
    },
    {
     "name": "stdout",
     "output_type": "stream",
     "text": [
      "\n",
      "Обработка батча 76/275\n"
     ]
    },
    {
     "name": "stderr",
     "output_type": "stream",
     "text": [
      "Обработка батча: 100%|██████████| 100/100 [00:05<00:00, 19.95it/s]\n"
     ]
    },
    {
     "name": "stdout",
     "output_type": "stream",
     "text": [
      "\n",
      "Обработка батча 77/275\n"
     ]
    },
    {
     "name": "stderr",
     "output_type": "stream",
     "text": [
      "Обработка батча: 100%|██████████| 100/100 [00:04<00:00, 20.02it/s]\n"
     ]
    },
    {
     "name": "stdout",
     "output_type": "stream",
     "text": [
      "\n",
      "Обработка батча 78/275\n"
     ]
    },
    {
     "name": "stderr",
     "output_type": "stream",
     "text": [
      "Обработка батча: 100%|██████████| 100/100 [00:05<00:00, 19.99it/s]\n"
     ]
    },
    {
     "name": "stdout",
     "output_type": "stream",
     "text": [
      "\n",
      "Обработка батча 79/275\n"
     ]
    },
    {
     "name": "stderr",
     "output_type": "stream",
     "text": [
      "Обработка батча: 100%|██████████| 100/100 [00:04<00:00, 22.17it/s]\n"
     ]
    },
    {
     "name": "stdout",
     "output_type": "stream",
     "text": [
      "\n",
      "Обработка батча 80/275\n"
     ]
    },
    {
     "name": "stderr",
     "output_type": "stream",
     "text": [
      "Обработка батча: 100%|██████████| 100/100 [00:06<00:00, 15.42it/s]\n"
     ]
    },
    {
     "name": "stdout",
     "output_type": "stream",
     "text": [
      "\n",
      "Обработка батча 81/275\n"
     ]
    },
    {
     "name": "stderr",
     "output_type": "stream",
     "text": [
      "Обработка батча: 100%|██████████| 100/100 [00:03<00:00, 33.06it/s]\n"
     ]
    },
    {
     "name": "stdout",
     "output_type": "stream",
     "text": [
      "\n",
      "Обработка батча 82/275\n"
     ]
    },
    {
     "name": "stderr",
     "output_type": "stream",
     "text": [
      "Обработка батча: 100%|██████████| 100/100 [00:06<00:00, 15.75it/s]\n"
     ]
    },
    {
     "name": "stdout",
     "output_type": "stream",
     "text": [
      "\n",
      "Обработка батча 83/275\n"
     ]
    },
    {
     "name": "stderr",
     "output_type": "stream",
     "text": [
      "Обработка батча: 100%|██████████| 100/100 [00:01<00:00, 52.40it/s]\n"
     ]
    },
    {
     "name": "stdout",
     "output_type": "stream",
     "text": [
      "\n",
      "Обработка батча 84/275\n"
     ]
    },
    {
     "name": "stderr",
     "output_type": "stream",
     "text": [
      "Обработка батча: 100%|██████████| 100/100 [00:04<00:00, 22.80it/s]\n"
     ]
    },
    {
     "name": "stdout",
     "output_type": "stream",
     "text": [
      "\n",
      "Обработка батча 85/275\n"
     ]
    },
    {
     "name": "stderr",
     "output_type": "stream",
     "text": [
      "Обработка батча: 100%|██████████| 100/100 [00:04<00:00, 21.71it/s]\n"
     ]
    },
    {
     "name": "stdout",
     "output_type": "stream",
     "text": [
      "\n",
      "Обработка батча 86/275\n"
     ]
    },
    {
     "name": "stderr",
     "output_type": "stream",
     "text": [
      "Обработка батча: 100%|██████████| 100/100 [00:02<00:00, 35.35it/s]\n"
     ]
    },
    {
     "name": "stdout",
     "output_type": "stream",
     "text": [
      "\n",
      "Обработка батча 87/275\n"
     ]
    },
    {
     "name": "stderr",
     "output_type": "stream",
     "text": [
      "Обработка батча: 100%|██████████| 100/100 [00:04<00:00, 24.63it/s]\n"
     ]
    },
    {
     "name": "stdout",
     "output_type": "stream",
     "text": [
      "\n",
      "Обработка батча 88/275\n"
     ]
    },
    {
     "name": "stderr",
     "output_type": "stream",
     "text": [
      "Обработка батча: 100%|██████████| 100/100 [00:01<00:00, 55.48it/s]\n"
     ]
    },
    {
     "name": "stdout",
     "output_type": "stream",
     "text": [
      "\n",
      "Обработка батча 89/275\n"
     ]
    },
    {
     "name": "stderr",
     "output_type": "stream",
     "text": [
      "Обработка батча: 100%|██████████| 100/100 [00:04<00:00, 23.48it/s]\n"
     ]
    },
    {
     "name": "stdout",
     "output_type": "stream",
     "text": [
      "\n",
      "Обработка батча 90/275\n"
     ]
    },
    {
     "name": "stderr",
     "output_type": "stream",
     "text": [
      "Обработка батча: 100%|██████████| 100/100 [00:01<00:00, 52.79it/s]\n"
     ]
    },
    {
     "name": "stdout",
     "output_type": "stream",
     "text": [
      "\n",
      "Обработка батча 91/275\n"
     ]
    },
    {
     "name": "stderr",
     "output_type": "stream",
     "text": [
      "Обработка батча:  98%|█████████▊| 98/100 [00:29<00:03,  1.78s/it]"
     ]
    },
    {
     "name": "stdout",
     "output_type": "stream",
     "text": [
      "Ошибка после 3 попыток: Error code: 403 - {'error': {'message': 'Key limit exceeded. Manage it using https://openrouter.ai/settings/keys', 'code': 403}}\n",
      "Ошибка после 3 попыток: Error code: 403 - {'error': {'message': 'Key limit exceeded. Manage it using https://openrouter.ai/settings/keys', 'code': 403}}\n"
     ]
    },
    {
     "name": "stderr",
     "output_type": "stream",
     "text": [
      "Обработка батча: 100%|██████████| 100/100 [00:30<00:00,  3.30it/s]"
     ]
    },
    {
     "name": "stdout",
     "output_type": "stream",
     "text": [
      "Ошибка после 3 попыток: Error code: 403 - {'error': {'message': 'Key limit exceeded. Manage it using https://openrouter.ai/settings/keys', 'code': 403}}\n"
     ]
    },
    {
     "name": "stderr",
     "output_type": "stream",
     "text": [
      "\n"
     ]
    },
    {
     "name": "stdout",
     "output_type": "stream",
     "text": [
      "\n",
      "Обработка батча 92/275\n"
     ]
    },
    {
     "name": "stderr",
     "output_type": "stream",
     "text": [
      "Обработка батча:   0%|          | 0/100 [00:00<?, ?it/s]"
     ]
    },
    {
     "ename": "KeyboardInterrupt",
     "evalue": "",
     "output_type": "error",
     "traceback": [
      "\u001b[0;31m---------------------------------------------------------------------------\u001b[0m",
      "\u001b[0;31mKeyboardInterrupt\u001b[0m                         Traceback (most recent call last)",
      "\u001b[0;32m/tmp/ipykernel_36/285768963.py\u001b[0m in \u001b[0;36m<cell line: 0>\u001b[0;34m()\u001b[0m\n\u001b[1;32m      1\u001b[0m \u001b[0;32mimport\u001b[0m \u001b[0mnest_asyncio\u001b[0m\u001b[0;34m\u001b[0m\u001b[0;34m\u001b[0m\u001b[0m\n\u001b[1;32m      2\u001b[0m \u001b[0mnest_asyncio\u001b[0m\u001b[0;34m.\u001b[0m\u001b[0mapply\u001b[0m\u001b[0;34m(\u001b[0m\u001b[0;34m)\u001b[0m\u001b[0;34m\u001b[0m\u001b[0;34m\u001b[0m\u001b[0m\n\u001b[0;32m----> 3\u001b[0;31m \u001b[0mresult_df\u001b[0m \u001b[0;34m=\u001b[0m \u001b[0mmain\u001b[0m\u001b[0;34m(\u001b[0m\u001b[0mtrain_new\u001b[0m\u001b[0;34m,\u001b[0m \u001b[0mtrain\u001b[0m\u001b[0;34m)\u001b[0m\u001b[0;34m\u001b[0m\u001b[0;34m\u001b[0m\u001b[0m\n\u001b[0m",
      "\u001b[0;32m/tmp/ipykernel_36/1129835402.py\u001b[0m in \u001b[0;36mmain\u001b[0;34m(news_df, df)\u001b[0m\n\u001b[1;32m    181\u001b[0m \u001b[0;34m\u001b[0m\u001b[0m\n\u001b[1;32m    182\u001b[0m     \u001b[0;31m# Запускаем асинхронную обработку\u001b[0m\u001b[0;34m\u001b[0m\u001b[0;34m\u001b[0m\u001b[0m\n\u001b[0;32m--> 183\u001b[0;31m     \u001b[0mresult_df\u001b[0m \u001b[0;34m=\u001b[0m \u001b[0masyncio\u001b[0m\u001b[0;34m.\u001b[0m\u001b[0mrun\u001b[0m\u001b[0;34m(\u001b[0m\u001b[0mclassify_news_async\u001b[0m\u001b[0;34m(\u001b[0m\u001b[0mnews_df\u001b[0m\u001b[0;34m.\u001b[0m\u001b[0mcopy\u001b[0m\u001b[0;34m(\u001b[0m\u001b[0;34m)\u001b[0m\u001b[0;34m,\u001b[0m \u001b[0mtarget_tickers\u001b[0m\u001b[0;34m)\u001b[0m\u001b[0;34m)\u001b[0m\u001b[0;34m\u001b[0m\u001b[0;34m\u001b[0m\u001b[0m\n\u001b[0m\u001b[1;32m    184\u001b[0m \u001b[0;34m\u001b[0m\u001b[0m\n\u001b[1;32m    185\u001b[0m     \u001b[0melapsed_time\u001b[0m \u001b[0;34m=\u001b[0m \u001b[0mtime\u001b[0m\u001b[0;34m.\u001b[0m\u001b[0mtime\u001b[0m\u001b[0;34m(\u001b[0m\u001b[0;34m)\u001b[0m \u001b[0;34m-\u001b[0m \u001b[0mstart_time\u001b[0m\u001b[0;34m\u001b[0m\u001b[0;34m\u001b[0m\u001b[0m\n",
      "\u001b[0;32m/usr/local/lib/python3.11/dist-packages/nest_asyncio.py\u001b[0m in \u001b[0;36mrun\u001b[0;34m(main, debug)\u001b[0m\n\u001b[1;32m     28\u001b[0m         \u001b[0mtask\u001b[0m \u001b[0;34m=\u001b[0m \u001b[0masyncio\u001b[0m\u001b[0;34m.\u001b[0m\u001b[0mensure_future\u001b[0m\u001b[0;34m(\u001b[0m\u001b[0mmain\u001b[0m\u001b[0;34m)\u001b[0m\u001b[0;34m\u001b[0m\u001b[0;34m\u001b[0m\u001b[0m\n\u001b[1;32m     29\u001b[0m         \u001b[0;32mtry\u001b[0m\u001b[0;34m:\u001b[0m\u001b[0;34m\u001b[0m\u001b[0;34m\u001b[0m\u001b[0m\n\u001b[0;32m---> 30\u001b[0;31m             \u001b[0;32mreturn\u001b[0m \u001b[0mloop\u001b[0m\u001b[0;34m.\u001b[0m\u001b[0mrun_until_complete\u001b[0m\u001b[0;34m(\u001b[0m\u001b[0mtask\u001b[0m\u001b[0;34m)\u001b[0m\u001b[0;34m\u001b[0m\u001b[0;34m\u001b[0m\u001b[0m\n\u001b[0m\u001b[1;32m     31\u001b[0m         \u001b[0;32mfinally\u001b[0m\u001b[0;34m:\u001b[0m\u001b[0;34m\u001b[0m\u001b[0;34m\u001b[0m\u001b[0m\n\u001b[1;32m     32\u001b[0m             \u001b[0;32mif\u001b[0m \u001b[0;32mnot\u001b[0m \u001b[0mtask\u001b[0m\u001b[0;34m.\u001b[0m\u001b[0mdone\u001b[0m\u001b[0;34m(\u001b[0m\u001b[0;34m)\u001b[0m\u001b[0;34m:\u001b[0m\u001b[0;34m\u001b[0m\u001b[0;34m\u001b[0m\u001b[0m\n",
      "\u001b[0;32m/usr/local/lib/python3.11/dist-packages/nest_asyncio.py\u001b[0m in \u001b[0;36mrun_until_complete\u001b[0;34m(self, future)\u001b[0m\n\u001b[1;32m     90\u001b[0m                 \u001b[0mf\u001b[0m\u001b[0;34m.\u001b[0m\u001b[0m_log_destroy_pending\u001b[0m \u001b[0;34m=\u001b[0m \u001b[0;32mFalse\u001b[0m\u001b[0;34m\u001b[0m\u001b[0;34m\u001b[0m\u001b[0m\n\u001b[1;32m     91\u001b[0m             \u001b[0;32mwhile\u001b[0m \u001b[0;32mnot\u001b[0m \u001b[0mf\u001b[0m\u001b[0;34m.\u001b[0m\u001b[0mdone\u001b[0m\u001b[0;34m(\u001b[0m\u001b[0;34m)\u001b[0m\u001b[0;34m:\u001b[0m\u001b[0;34m\u001b[0m\u001b[0;34m\u001b[0m\u001b[0m\n\u001b[0;32m---> 92\u001b[0;31m                 \u001b[0mself\u001b[0m\u001b[0;34m.\u001b[0m\u001b[0m_run_once\u001b[0m\u001b[0;34m(\u001b[0m\u001b[0;34m)\u001b[0m\u001b[0;34m\u001b[0m\u001b[0;34m\u001b[0m\u001b[0m\n\u001b[0m\u001b[1;32m     93\u001b[0m                 \u001b[0;32mif\u001b[0m \u001b[0mself\u001b[0m\u001b[0;34m.\u001b[0m\u001b[0m_stopping\u001b[0m\u001b[0;34m:\u001b[0m\u001b[0;34m\u001b[0m\u001b[0;34m\u001b[0m\u001b[0m\n\u001b[1;32m     94\u001b[0m                     \u001b[0;32mbreak\u001b[0m\u001b[0;34m\u001b[0m\u001b[0;34m\u001b[0m\u001b[0m\n",
      "\u001b[0;32m/usr/local/lib/python3.11/dist-packages/nest_asyncio.py\u001b[0m in \u001b[0;36m_run_once\u001b[0;34m(self)\u001b[0m\n\u001b[1;32m    113\u001b[0m                 scheduled[0]._when - self.time(), 0), 86400) if scheduled\n\u001b[1;32m    114\u001b[0m             else None)\n\u001b[0;32m--> 115\u001b[0;31m         \u001b[0mevent_list\u001b[0m \u001b[0;34m=\u001b[0m \u001b[0mself\u001b[0m\u001b[0;34m.\u001b[0m\u001b[0m_selector\u001b[0m\u001b[0;34m.\u001b[0m\u001b[0mselect\u001b[0m\u001b[0;34m(\u001b[0m\u001b[0mtimeout\u001b[0m\u001b[0;34m)\u001b[0m\u001b[0;34m\u001b[0m\u001b[0;34m\u001b[0m\u001b[0m\n\u001b[0m\u001b[1;32m    116\u001b[0m         \u001b[0mself\u001b[0m\u001b[0;34m.\u001b[0m\u001b[0m_process_events\u001b[0m\u001b[0;34m(\u001b[0m\u001b[0mevent_list\u001b[0m\u001b[0;34m)\u001b[0m\u001b[0;34m\u001b[0m\u001b[0;34m\u001b[0m\u001b[0m\n\u001b[1;32m    117\u001b[0m \u001b[0;34m\u001b[0m\u001b[0m\n",
      "\u001b[0;32m/usr/lib/python3.11/selectors.py\u001b[0m in \u001b[0;36mselect\u001b[0;34m(self, timeout)\u001b[0m\n\u001b[1;32m    466\u001b[0m             \u001b[0mready\u001b[0m \u001b[0;34m=\u001b[0m \u001b[0;34m[\u001b[0m\u001b[0;34m]\u001b[0m\u001b[0;34m\u001b[0m\u001b[0;34m\u001b[0m\u001b[0m\n\u001b[1;32m    467\u001b[0m             \u001b[0;32mtry\u001b[0m\u001b[0;34m:\u001b[0m\u001b[0;34m\u001b[0m\u001b[0;34m\u001b[0m\u001b[0m\n\u001b[0;32m--> 468\u001b[0;31m                 \u001b[0mfd_event_list\u001b[0m \u001b[0;34m=\u001b[0m \u001b[0mself\u001b[0m\u001b[0;34m.\u001b[0m\u001b[0m_selector\u001b[0m\u001b[0;34m.\u001b[0m\u001b[0mpoll\u001b[0m\u001b[0;34m(\u001b[0m\u001b[0mtimeout\u001b[0m\u001b[0;34m,\u001b[0m \u001b[0mmax_ev\u001b[0m\u001b[0;34m)\u001b[0m\u001b[0;34m\u001b[0m\u001b[0;34m\u001b[0m\u001b[0m\n\u001b[0m\u001b[1;32m    469\u001b[0m             \u001b[0;32mexcept\u001b[0m \u001b[0mInterruptedError\u001b[0m\u001b[0;34m:\u001b[0m\u001b[0;34m\u001b[0m\u001b[0;34m\u001b[0m\u001b[0m\n\u001b[1;32m    470\u001b[0m                 \u001b[0;32mreturn\u001b[0m \u001b[0mready\u001b[0m\u001b[0;34m\u001b[0m\u001b[0;34m\u001b[0m\u001b[0m\n",
      "\u001b[0;31mKeyboardInterrupt\u001b[0m: "
     ]
    }
   ],
   "source": [
    "import nest_asyncio\n",
    "nest_asyncio.apply()\n",
    "result_df = main(train_new, train)\n"
   ]
  },
  {
   "cell_type": "code",
   "execution_count": null,
   "metadata": {
    "execution": {
     "iopub.status.busy": "2025-10-04T17:28:06.035253Z",
     "iopub.status.idle": "2025-10-04T17:28:06.035481Z",
     "shell.execute_reply": "2025-10-04T17:28:06.035387Z",
     "shell.execute_reply.started": "2025-10-04T17:28:06.035377Z"
    }
   },
   "outputs": [],
   "source": [
    "result_df"
   ]
  },
  {
   "cell_type": "code",
   "execution_count": null,
   "metadata": {
    "execution": {
     "iopub.status.busy": "2025-10-04T17:28:06.036203Z",
     "iopub.status.idle": "2025-10-04T17:28:06.036415Z",
     "shell.execute_reply": "2025-10-04T17:28:06.036317Z",
     "shell.execute_reply.started": "2025-10-04T17:28:06.036308Z"
    }
   },
   "outputs": [],
   "source": [
    "result_df.to_csv('new_title.csv', index = False)"
   ]
  },
  {
   "cell_type": "markdown",
   "metadata": {
    "jp-MarkdownHeadingCollapsed": true
   },
   "source": [
    "# Merge news with data"
   ]
  },
  {
   "cell_type": "code",
   "execution_count": null,
   "metadata": {},
   "outputs": [],
   "source": [
    "import pandas as pd\n",
    "import numpy as np\n",
    "\n",
    "\n",
    "train_new = pd.read_csv('new_title.csv')\n",
    "train = pd.read_csv('candles.csv')"
   ]
  },
  {
   "cell_type": "code",
   "execution_count": null,
   "metadata": {},
   "outputs": [],
   "source": []
  },
  {
   "cell_type": "code",
   "execution_count": null,
   "metadata": {},
   "outputs": [],
   "source": [
    "\n",
    "def merge_candles_and_news(candles_df, news_df, dataset_name='train'):\n",
    "    \"\"\"\n",
    "    Объединяет данные свечей (цены) с новостями по тикеру и дате\n",
    "    \"\"\"\n",
    "    # Копируем данные\n",
    "    df_candles = candles_df.copy()\n",
    "    df_news = news_df.copy()\n",
    "    \n",
    "    # 1. Преобразование дат\n",
    "    df_candles['begin'] = pd.to_datetime(df_candles['begin'])\n",
    "    df_candles['date'] = df_candles['begin'].dt.date\n",
    "    \n",
    "    df_news['publish_date'] = pd.to_datetime(df_news['publish_date'])\n",
    "    df_news['date'] = df_news['publish_date'].dt.date\n",
    "    \n",
    "    # 2. Фильтрация новостей без тикера\n",
    "    df_news_filtered = df_news[df_news['ticker'] != 'NONE'].copy()\n",
    "    \n",
    "    print(f\"\\n{dataset_name} - После фильтрации NONE:\")\n",
    "    print(f\"Новости с тикерами: {len(df_news_filtered)} из {len(df_news)}\")\n",
    "    \n",
    "    # 3. Агрегация новостей по дате и тикеру (если несколько новостей в день)\n",
    "    df_news_agg = df_news_filtered.groupby(['ticker', 'date']).agg({\n",
    "        'title': lambda x: ' | '.join(x),\n",
    "        'publication': lambda x: ' | '.join(x),\n",
    "        'publish_date': 'first'\n",
    "    }).reset_index()\n",
    "    \n",
    "    print(f\"{dataset_name} - После агрегации новостей: {len(df_news_agg)} уникальных (тикер+дата)\")\n",
    "    \n",
    "    # 4. Merge по тикеру и дате\n",
    "    df_merged = pd.merge(\n",
    "        df_candles,\n",
    "        df_news_agg,\n",
    "        on=['ticker', 'date'],\n",
    "        how='left'\n",
    "    )\n",
    "    \n",
    "    # 5. Сортировка\n",
    "    df_merged = df_merged.sort_values(['ticker', 'begin']).reset_index(drop=True)\n",
    "    \n",
    "    # 6. Статистика\n",
    "    news_count = df_merged['title'].notna().sum()\n",
    "    news_pct = (news_count / len(df_merged)) * 100\n",
    "    \n",
    "    print(f\"{dataset_name} - Результат merge:\")\n",
    "    print(f\"  Всего строк: {len(df_merged)}\")\n",
    "    print(f\"  Строк с новостями: {news_count} ({news_pct:.2f}%)\")\n",
    "    print(f\"  Уникальных тикеров: {df_merged['ticker'].nunique()}\")\n",
    "    \n",
    "    return df_merged\n",
    "\n"
   ]
  },
  {
   "cell_type": "code",
   "execution_count": null,
   "metadata": {},
   "outputs": [],
   "source": [
    "# ============================================\n",
    "# ВЫПОЛНЯЕМ MERGE\n",
    "# ============================================\n",
    "train_merged = merge_candles_and_news(train, train_new, 'TRAIN')\n"
   ]
  },
  {
   "cell_type": "code",
   "execution_count": null,
   "metadata": {},
   "outputs": [],
   "source": [
    "train = train_merged.copy()"
   ]
  },
  {
   "cell_type": "code",
   "execution_count": null,
   "metadata": {},
   "outputs": [],
   "source": [
    "train.head()"
   ]
  },
  {
   "cell_type": "code",
   "execution_count": null,
   "metadata": {},
   "outputs": [],
   "source": [
    "train.shape"
   ]
  },
  {
   "cell_type": "code",
   "execution_count": null,
   "metadata": {},
   "outputs": [],
   "source": [
    "train.to_csv(\"train_new.csv\", index = False)"
   ]
  },
  {
   "cell_type": "code",
   "execution_count": null,
   "metadata": {},
   "outputs": [],
   "source": []
  },
  {
   "cell_type": "markdown",
   "metadata": {},
   "source": [
    "# Train"
   ]
  },
  {
   "cell_type": "code",
   "execution_count": 2,
   "metadata": {
    "execution": {
     "iopub.execute_input": "2025-10-04T23:49:27.258713Z",
     "iopub.status.busy": "2025-10-04T23:49:27.258429Z",
     "iopub.status.idle": "2025-10-04T23:49:27.262400Z",
     "shell.execute_reply": "2025-10-04T23:49:27.261559Z",
     "shell.execute_reply.started": "2025-10-04T23:49:27.258694Z"
    }
   },
   "outputs": [],
   "source": [
    "import pandas as pd"
   ]
  },
  {
   "cell_type": "code",
   "execution_count": 3,
   "metadata": {
    "execution": {
     "iopub.execute_input": "2025-10-04T23:49:27.439758Z",
     "iopub.status.busy": "2025-10-04T23:49:27.439449Z",
     "iopub.status.idle": "2025-10-04T23:49:33.450290Z",
     "shell.execute_reply": "2025-10-04T23:49:33.449677Z",
     "shell.execute_reply.started": "2025-10-04T23:49:27.439735Z"
    }
   },
   "outputs": [
    {
     "name": "stderr",
     "output_type": "stream",
     "text": [
      "2025-10-04 23:49:27.718203: E external/local_xla/xla/stream_executor/cuda/cuda_fft.cc:477] Unable to register cuFFT factory: Attempting to register factory for plugin cuFFT when one has already been registered\n",
      "WARNING: All log messages before absl::InitializeLog() is called are written to STDERR\n",
      "E0000 00:00:1759621767.740780     106 cuda_dnn.cc:8310] Unable to register cuDNN factory: Attempting to register factory for plugin cuDNN when one has already been registered\n",
      "E0000 00:00:1759621767.747614     106 cuda_blas.cc:1418] Unable to register cuBLAS factory: Attempting to register factory for plugin cuBLAS when one has already been registered\n"
     ]
    }
   ],
   "source": [
    "import pandas as pd\n",
    "import numpy as np\n",
    "from sklearn.preprocessing import MinMaxScaler\n",
    "from tensorflow.keras.models import Sequential\n",
    "from tensorflow.keras.layers import Bidirectional, LSTM, Dropout, Dense\n",
    "from transformers import pipeline\n",
    "import warnings\n",
    "\n",
    "# Игнорируем предупреждения для чистоты вывода\n",
    "warnings.filterwarnings('ignore')"
   ]
  },
  {
   "cell_type": "code",
   "execution_count": 4,
   "metadata": {
    "execution": {
     "iopub.execute_input": "2025-10-04T23:49:33.452006Z",
     "iopub.status.busy": "2025-10-04T23:49:33.451462Z",
     "iopub.status.idle": "2025-10-04T23:49:34.465071Z",
     "shell.execute_reply": "2025-10-04T23:49:34.464202Z",
     "shell.execute_reply.started": "2025-10-04T23:49:33.451984Z"
    }
   },
   "outputs": [
    {
     "data": {
      "text/html": [
       "<div>\n",
       "<style scoped>\n",
       "    .dataframe tbody tr th:only-of-type {\n",
       "        vertical-align: middle;\n",
       "    }\n",
       "\n",
       "    .dataframe tbody tr th {\n",
       "        vertical-align: top;\n",
       "    }\n",
       "\n",
       "    .dataframe thead th {\n",
       "        text-align: right;\n",
       "    }\n",
       "</style>\n",
       "<table border=\"1\" class=\"dataframe\">\n",
       "  <thead>\n",
       "    <tr style=\"text-align: right;\">\n",
       "      <th></th>\n",
       "      <th>open</th>\n",
       "      <th>close</th>\n",
       "      <th>high</th>\n",
       "      <th>low</th>\n",
       "      <th>volume</th>\n",
       "      <th>begin</th>\n",
       "      <th>ticker</th>\n",
       "      <th>date</th>\n",
       "      <th>title</th>\n",
       "      <th>publication</th>\n",
       "      <th>publish_date</th>\n",
       "    </tr>\n",
       "  </thead>\n",
       "  <tbody>\n",
       "    <tr>\n",
       "      <th>0</th>\n",
       "      <td>81.50</td>\n",
       "      <td>81.70</td>\n",
       "      <td>83.20</td>\n",
       "      <td>81.16</td>\n",
       "      <td>29755530</td>\n",
       "      <td>2020-06-19</td>\n",
       "      <td>AFLT</td>\n",
       "      <td>2020-06-19</td>\n",
       "      <td>Решение о допэмиссии не так негативно для \"Аэр...</td>\n",
       "      <td>По данным Reuters, правительство обсуждает воп...</td>\n",
       "      <td>2020-06-19 13:15:00</td>\n",
       "    </tr>\n",
       "    <tr>\n",
       "      <th>1</th>\n",
       "      <td>81.72</td>\n",
       "      <td>82.10</td>\n",
       "      <td>83.98</td>\n",
       "      <td>80.26</td>\n",
       "      <td>18502950</td>\n",
       "      <td>2020-06-22</td>\n",
       "      <td>AFLT</td>\n",
       "      <td>2020-06-22</td>\n",
       "      <td>\"Аэрофлот\" за пять месяцев 2020 года снизил ав...</td>\n",
       "      <td>За пять месяцев 2020 года группа \"Аэрофлот\" пе...</td>\n",
       "      <td>2020-06-22 11:10:53</td>\n",
       "    </tr>\n",
       "    <tr>\n",
       "      <th>2</th>\n",
       "      <td>82.04</td>\n",
       "      <td>81.20</td>\n",
       "      <td>82.48</td>\n",
       "      <td>80.40</td>\n",
       "      <td>16848930</td>\n",
       "      <td>2020-06-23</td>\n",
       "      <td>AFLT</td>\n",
       "      <td>2020-06-23</td>\n",
       "      <td>Ослабление карантинных мер поможет \"Аэрофлоту\"...</td>\n",
       "      <td>Результаты \"Аэрофлота\" оказались ожидаемо слаб...</td>\n",
       "      <td>2020-06-23 10:10:00</td>\n",
       "    </tr>\n",
       "    <tr>\n",
       "      <th>3</th>\n",
       "      <td>79.78</td>\n",
       "      <td>80.58</td>\n",
       "      <td>80.80</td>\n",
       "      <td>78.22</td>\n",
       "      <td>21559860</td>\n",
       "      <td>2020-06-25</td>\n",
       "      <td>AFLT</td>\n",
       "      <td>2020-06-25</td>\n",
       "      <td>NaN</td>\n",
       "      <td>NaN</td>\n",
       "      <td>NaN</td>\n",
       "    </tr>\n",
       "    <tr>\n",
       "      <th>4</th>\n",
       "      <td>80.50</td>\n",
       "      <td>79.38</td>\n",
       "      <td>81.44</td>\n",
       "      <td>78.76</td>\n",
       "      <td>14677280</td>\n",
       "      <td>2020-06-26</td>\n",
       "      <td>AFLT</td>\n",
       "      <td>2020-06-26</td>\n",
       "      <td>ГОСА \"Аэрофлота\" пройдет 27 июля</td>\n",
       "      <td>Совет директоров \"Аэрофлота\" утвердил повестку...</td>\n",
       "      <td>2020-06-26 13:14:51</td>\n",
       "    </tr>\n",
       "    <tr>\n",
       "      <th>...</th>\n",
       "      <td>...</td>\n",
       "      <td>...</td>\n",
       "      <td>...</td>\n",
       "      <td>...</td>\n",
       "      <td>...</td>\n",
       "      <td>...</td>\n",
       "      <td>...</td>\n",
       "      <td>...</td>\n",
       "      <td>...</td>\n",
       "      <td>...</td>\n",
       "      <td>...</td>\n",
       "    </tr>\n",
       "    <tr>\n",
       "      <th>25937</th>\n",
       "      <td>75.10</td>\n",
       "      <td>75.74</td>\n",
       "      <td>75.96</td>\n",
       "      <td>74.61</td>\n",
       "      <td>49552606</td>\n",
       "      <td>2025-09-04</td>\n",
       "      <td>VTBR</td>\n",
       "      <td>2025-09-04</td>\n",
       "      <td>ВТБ размещает однодневные облигации на 100 млр...</td>\n",
       "      <td>Банк ВТБ размещает сегодня однодневные облигац...</td>\n",
       "      <td>2025-09-04 12:19:00</td>\n",
       "    </tr>\n",
       "    <tr>\n",
       "      <th>25938</th>\n",
       "      <td>75.85</td>\n",
       "      <td>75.50</td>\n",
       "      <td>76.13</td>\n",
       "      <td>74.94</td>\n",
       "      <td>40701093</td>\n",
       "      <td>2025-09-05</td>\n",
       "      <td>VTBR</td>\n",
       "      <td>2025-09-05</td>\n",
       "      <td>ВТБ построит детский лагерь и подарит его Камч...</td>\n",
       "      <td>Банк ВТБ построит на Камчатке детский лагерь «...</td>\n",
       "      <td>2025-09-05 09:38:36</td>\n",
       "    </tr>\n",
       "    <tr>\n",
       "      <th>25939</th>\n",
       "      <td>75.59</td>\n",
       "      <td>75.64</td>\n",
       "      <td>75.71</td>\n",
       "      <td>75.35</td>\n",
       "      <td>1681425</td>\n",
       "      <td>2025-09-06</td>\n",
       "      <td>VTBR</td>\n",
       "      <td>2025-09-06</td>\n",
       "      <td>NaN</td>\n",
       "      <td>NaN</td>\n",
       "      <td>NaN</td>\n",
       "    </tr>\n",
       "    <tr>\n",
       "      <th>25940</th>\n",
       "      <td>75.69</td>\n",
       "      <td>75.68</td>\n",
       "      <td>75.85</td>\n",
       "      <td>75.50</td>\n",
       "      <td>2186520</td>\n",
       "      <td>2025-09-07</td>\n",
       "      <td>VTBR</td>\n",
       "      <td>2025-09-07</td>\n",
       "      <td>NaN</td>\n",
       "      <td>NaN</td>\n",
       "      <td>NaN</td>\n",
       "    </tr>\n",
       "    <tr>\n",
       "      <th>25941</th>\n",
       "      <td>75.68</td>\n",
       "      <td>75.23</td>\n",
       "      <td>76.05</td>\n",
       "      <td>74.85</td>\n",
       "      <td>31765976</td>\n",
       "      <td>2025-09-08</td>\n",
       "      <td>VTBR</td>\n",
       "      <td>2025-09-08</td>\n",
       "      <td>NaN</td>\n",
       "      <td>NaN</td>\n",
       "      <td>NaN</td>\n",
       "    </tr>\n",
       "  </tbody>\n",
       "</table>\n",
       "<p>25942 rows × 11 columns</p>\n",
       "</div>"
      ],
      "text/plain": [
       "        open  close   high    low    volume       begin ticker        date  \\\n",
       "0      81.50  81.70  83.20  81.16  29755530  2020-06-19   AFLT  2020-06-19   \n",
       "1      81.72  82.10  83.98  80.26  18502950  2020-06-22   AFLT  2020-06-22   \n",
       "2      82.04  81.20  82.48  80.40  16848930  2020-06-23   AFLT  2020-06-23   \n",
       "3      79.78  80.58  80.80  78.22  21559860  2020-06-25   AFLT  2020-06-25   \n",
       "4      80.50  79.38  81.44  78.76  14677280  2020-06-26   AFLT  2020-06-26   \n",
       "...      ...    ...    ...    ...       ...         ...    ...         ...   \n",
       "25937  75.10  75.74  75.96  74.61  49552606  2025-09-04   VTBR  2025-09-04   \n",
       "25938  75.85  75.50  76.13  74.94  40701093  2025-09-05   VTBR  2025-09-05   \n",
       "25939  75.59  75.64  75.71  75.35   1681425  2025-09-06   VTBR  2025-09-06   \n",
       "25940  75.69  75.68  75.85  75.50   2186520  2025-09-07   VTBR  2025-09-07   \n",
       "25941  75.68  75.23  76.05  74.85  31765976  2025-09-08   VTBR  2025-09-08   \n",
       "\n",
       "                                                   title  \\\n",
       "0      Решение о допэмиссии не так негативно для \"Аэр...   \n",
       "1      \"Аэрофлот\" за пять месяцев 2020 года снизил ав...   \n",
       "2      Ослабление карантинных мер поможет \"Аэрофлоту\"...   \n",
       "3                                                    NaN   \n",
       "4                       ГОСА \"Аэрофлота\" пройдет 27 июля   \n",
       "...                                                  ...   \n",
       "25937  ВТБ размещает однодневные облигации на 100 млр...   \n",
       "25938  ВТБ построит детский лагерь и подарит его Камч...   \n",
       "25939                                                NaN   \n",
       "25940                                                NaN   \n",
       "25941                                                NaN   \n",
       "\n",
       "                                             publication         publish_date  \n",
       "0      По данным Reuters, правительство обсуждает воп...  2020-06-19 13:15:00  \n",
       "1      За пять месяцев 2020 года группа \"Аэрофлот\" пе...  2020-06-22 11:10:53  \n",
       "2      Результаты \"Аэрофлота\" оказались ожидаемо слаб...  2020-06-23 10:10:00  \n",
       "3                                                    NaN                  NaN  \n",
       "4      Совет директоров \"Аэрофлота\" утвердил повестку...  2020-06-26 13:14:51  \n",
       "...                                                  ...                  ...  \n",
       "25937  Банк ВТБ размещает сегодня однодневные облигац...  2025-09-04 12:19:00  \n",
       "25938  Банк ВТБ построит на Камчатке детский лагерь «...  2025-09-05 09:38:36  \n",
       "25939                                                NaN                  NaN  \n",
       "25940                                                NaN                  NaN  \n",
       "25941                                                NaN                  NaN  \n",
       "\n",
       "[25942 rows x 11 columns]"
      ]
     },
     "execution_count": 4,
     "metadata": {},
     "output_type": "execute_result"
    }
   ],
   "source": [
    "train = pd.read_csv('/kaggle/input/finam-train-new/train_new.csv')\n",
    "train"
   ]
  },
  {
   "cell_type": "code",
   "execution_count": 5,
   "metadata": {
    "execution": {
     "iopub.execute_input": "2025-10-04T23:49:34.466089Z",
     "iopub.status.busy": "2025-10-04T23:49:34.465864Z",
     "iopub.status.idle": "2025-10-04T23:49:34.471852Z",
     "shell.execute_reply": "2025-10-04T23:49:34.471056Z",
     "shell.execute_reply.started": "2025-10-04T23:49:34.466063Z"
    }
   },
   "outputs": [],
   "source": [
    "df = train.copy()"
   ]
  },
  {
   "cell_type": "code",
   "execution_count": 6,
   "metadata": {
    "execution": {
     "iopub.execute_input": "2025-10-04T23:49:34.473782Z",
     "iopub.status.busy": "2025-10-04T23:49:34.473409Z",
     "iopub.status.idle": "2025-10-04T23:49:34.497690Z",
     "shell.execute_reply": "2025-10-04T23:49:34.497137Z",
     "shell.execute_reply.started": "2025-10-04T23:49:34.473766Z"
    }
   },
   "outputs": [],
   "source": [
    "df['date'] = pd.to_datetime(df['date'], errors='coerce')\n",
    "df = df.drop(['publish_date', 'begin'], axis = 1)"
   ]
  },
  {
   "cell_type": "code",
   "execution_count": 7,
   "metadata": {
    "execution": {
     "iopub.execute_input": "2025-10-04T23:49:34.498493Z",
     "iopub.status.busy": "2025-10-04T23:49:34.498303Z",
     "iopub.status.idle": "2025-10-04T23:49:34.512857Z",
     "shell.execute_reply": "2025-10-04T23:49:34.512134Z",
     "shell.execute_reply.started": "2025-10-04T23:49:34.498477Z"
    }
   },
   "outputs": [
    {
     "data": {
      "text/html": [
       "<div>\n",
       "<style scoped>\n",
       "    .dataframe tbody tr th:only-of-type {\n",
       "        vertical-align: middle;\n",
       "    }\n",
       "\n",
       "    .dataframe tbody tr th {\n",
       "        vertical-align: top;\n",
       "    }\n",
       "\n",
       "    .dataframe thead th {\n",
       "        text-align: right;\n",
       "    }\n",
       "</style>\n",
       "<table border=\"1\" class=\"dataframe\">\n",
       "  <thead>\n",
       "    <tr style=\"text-align: right;\">\n",
       "      <th></th>\n",
       "      <th>open</th>\n",
       "      <th>close</th>\n",
       "      <th>high</th>\n",
       "      <th>low</th>\n",
       "      <th>volume</th>\n",
       "      <th>ticker</th>\n",
       "      <th>date</th>\n",
       "      <th>title</th>\n",
       "      <th>publication</th>\n",
       "    </tr>\n",
       "  </thead>\n",
       "  <tbody>\n",
       "    <tr>\n",
       "      <th>0</th>\n",
       "      <td>81.50</td>\n",
       "      <td>81.70</td>\n",
       "      <td>83.20</td>\n",
       "      <td>81.16</td>\n",
       "      <td>29755530</td>\n",
       "      <td>AFLT</td>\n",
       "      <td>2020-06-19</td>\n",
       "      <td>Решение о допэмиссии не так негативно для \"Аэр...</td>\n",
       "      <td>По данным Reuters, правительство обсуждает воп...</td>\n",
       "    </tr>\n",
       "    <tr>\n",
       "      <th>1</th>\n",
       "      <td>81.72</td>\n",
       "      <td>82.10</td>\n",
       "      <td>83.98</td>\n",
       "      <td>80.26</td>\n",
       "      <td>18502950</td>\n",
       "      <td>AFLT</td>\n",
       "      <td>2020-06-22</td>\n",
       "      <td>\"Аэрофлот\" за пять месяцев 2020 года снизил ав...</td>\n",
       "      <td>За пять месяцев 2020 года группа \"Аэрофлот\" пе...</td>\n",
       "    </tr>\n",
       "    <tr>\n",
       "      <th>2</th>\n",
       "      <td>82.04</td>\n",
       "      <td>81.20</td>\n",
       "      <td>82.48</td>\n",
       "      <td>80.40</td>\n",
       "      <td>16848930</td>\n",
       "      <td>AFLT</td>\n",
       "      <td>2020-06-23</td>\n",
       "      <td>Ослабление карантинных мер поможет \"Аэрофлоту\"...</td>\n",
       "      <td>Результаты \"Аэрофлота\" оказались ожидаемо слаб...</td>\n",
       "    </tr>\n",
       "    <tr>\n",
       "      <th>3</th>\n",
       "      <td>79.78</td>\n",
       "      <td>80.58</td>\n",
       "      <td>80.80</td>\n",
       "      <td>78.22</td>\n",
       "      <td>21559860</td>\n",
       "      <td>AFLT</td>\n",
       "      <td>2020-06-25</td>\n",
       "      <td>NaN</td>\n",
       "      <td>NaN</td>\n",
       "    </tr>\n",
       "    <tr>\n",
       "      <th>4</th>\n",
       "      <td>80.50</td>\n",
       "      <td>79.38</td>\n",
       "      <td>81.44</td>\n",
       "      <td>78.76</td>\n",
       "      <td>14677280</td>\n",
       "      <td>AFLT</td>\n",
       "      <td>2020-06-26</td>\n",
       "      <td>ГОСА \"Аэрофлота\" пройдет 27 июля</td>\n",
       "      <td>Совет директоров \"Аэрофлота\" утвердил повестку...</td>\n",
       "    </tr>\n",
       "    <tr>\n",
       "      <th>...</th>\n",
       "      <td>...</td>\n",
       "      <td>...</td>\n",
       "      <td>...</td>\n",
       "      <td>...</td>\n",
       "      <td>...</td>\n",
       "      <td>...</td>\n",
       "      <td>...</td>\n",
       "      <td>...</td>\n",
       "      <td>...</td>\n",
       "    </tr>\n",
       "    <tr>\n",
       "      <th>25937</th>\n",
       "      <td>75.10</td>\n",
       "      <td>75.74</td>\n",
       "      <td>75.96</td>\n",
       "      <td>74.61</td>\n",
       "      <td>49552606</td>\n",
       "      <td>VTBR</td>\n",
       "      <td>2025-09-04</td>\n",
       "      <td>ВТБ размещает однодневные облигации на 100 млр...</td>\n",
       "      <td>Банк ВТБ размещает сегодня однодневные облигац...</td>\n",
       "    </tr>\n",
       "    <tr>\n",
       "      <th>25938</th>\n",
       "      <td>75.85</td>\n",
       "      <td>75.50</td>\n",
       "      <td>76.13</td>\n",
       "      <td>74.94</td>\n",
       "      <td>40701093</td>\n",
       "      <td>VTBR</td>\n",
       "      <td>2025-09-05</td>\n",
       "      <td>ВТБ построит детский лагерь и подарит его Камч...</td>\n",
       "      <td>Банк ВТБ построит на Камчатке детский лагерь «...</td>\n",
       "    </tr>\n",
       "    <tr>\n",
       "      <th>25939</th>\n",
       "      <td>75.59</td>\n",
       "      <td>75.64</td>\n",
       "      <td>75.71</td>\n",
       "      <td>75.35</td>\n",
       "      <td>1681425</td>\n",
       "      <td>VTBR</td>\n",
       "      <td>2025-09-06</td>\n",
       "      <td>NaN</td>\n",
       "      <td>NaN</td>\n",
       "    </tr>\n",
       "    <tr>\n",
       "      <th>25940</th>\n",
       "      <td>75.69</td>\n",
       "      <td>75.68</td>\n",
       "      <td>75.85</td>\n",
       "      <td>75.50</td>\n",
       "      <td>2186520</td>\n",
       "      <td>VTBR</td>\n",
       "      <td>2025-09-07</td>\n",
       "      <td>NaN</td>\n",
       "      <td>NaN</td>\n",
       "    </tr>\n",
       "    <tr>\n",
       "      <th>25941</th>\n",
       "      <td>75.68</td>\n",
       "      <td>75.23</td>\n",
       "      <td>76.05</td>\n",
       "      <td>74.85</td>\n",
       "      <td>31765976</td>\n",
       "      <td>VTBR</td>\n",
       "      <td>2025-09-08</td>\n",
       "      <td>NaN</td>\n",
       "      <td>NaN</td>\n",
       "    </tr>\n",
       "  </tbody>\n",
       "</table>\n",
       "<p>25942 rows × 9 columns</p>\n",
       "</div>"
      ],
      "text/plain": [
       "        open  close   high    low    volume ticker       date  \\\n",
       "0      81.50  81.70  83.20  81.16  29755530   AFLT 2020-06-19   \n",
       "1      81.72  82.10  83.98  80.26  18502950   AFLT 2020-06-22   \n",
       "2      82.04  81.20  82.48  80.40  16848930   AFLT 2020-06-23   \n",
       "3      79.78  80.58  80.80  78.22  21559860   AFLT 2020-06-25   \n",
       "4      80.50  79.38  81.44  78.76  14677280   AFLT 2020-06-26   \n",
       "...      ...    ...    ...    ...       ...    ...        ...   \n",
       "25937  75.10  75.74  75.96  74.61  49552606   VTBR 2025-09-04   \n",
       "25938  75.85  75.50  76.13  74.94  40701093   VTBR 2025-09-05   \n",
       "25939  75.59  75.64  75.71  75.35   1681425   VTBR 2025-09-06   \n",
       "25940  75.69  75.68  75.85  75.50   2186520   VTBR 2025-09-07   \n",
       "25941  75.68  75.23  76.05  74.85  31765976   VTBR 2025-09-08   \n",
       "\n",
       "                                                   title  \\\n",
       "0      Решение о допэмиссии не так негативно для \"Аэр...   \n",
       "1      \"Аэрофлот\" за пять месяцев 2020 года снизил ав...   \n",
       "2      Ослабление карантинных мер поможет \"Аэрофлоту\"...   \n",
       "3                                                    NaN   \n",
       "4                       ГОСА \"Аэрофлота\" пройдет 27 июля   \n",
       "...                                                  ...   \n",
       "25937  ВТБ размещает однодневные облигации на 100 млр...   \n",
       "25938  ВТБ построит детский лагерь и подарит его Камч...   \n",
       "25939                                                NaN   \n",
       "25940                                                NaN   \n",
       "25941                                                NaN   \n",
       "\n",
       "                                             publication  \n",
       "0      По данным Reuters, правительство обсуждает воп...  \n",
       "1      За пять месяцев 2020 года группа \"Аэрофлот\" пе...  \n",
       "2      Результаты \"Аэрофлота\" оказались ожидаемо слаб...  \n",
       "3                                                    NaN  \n",
       "4      Совет директоров \"Аэрофлота\" утвердил повестку...  \n",
       "...                                                  ...  \n",
       "25937  Банк ВТБ размещает сегодня однодневные облигац...  \n",
       "25938  Банк ВТБ построит на Камчатке детский лагерь «...  \n",
       "25939                                                NaN  \n",
       "25940                                                NaN  \n",
       "25941                                                NaN  \n",
       "\n",
       "[25942 rows x 9 columns]"
      ]
     },
     "execution_count": 7,
     "metadata": {},
     "output_type": "execute_result"
    }
   ],
   "source": [
    "df"
   ]
  },
  {
   "cell_type": "code",
   "execution_count": null,
   "metadata": {},
   "outputs": [],
   "source": []
  },
  {
   "cell_type": "markdown",
   "metadata": {},
   "source": [
    "## Sentiment of news"
   ]
  },
  {
   "cell_type": "code",
   "execution_count": 8,
   "metadata": {
    "execution": {
     "iopub.execute_input": "2025-10-04T23:49:34.513750Z",
     "iopub.status.busy": "2025-10-04T23:49:34.513535Z",
     "iopub.status.idle": "2025-10-04T23:51:05.549549Z",
     "shell.execute_reply": "2025-10-04T23:51:05.548707Z",
     "shell.execute_reply.started": "2025-10-04T23:49:34.513734Z"
    }
   },
   "outputs": [
    {
     "name": "stdout",
     "output_type": "stream",
     "text": [
      "Загрузка RuBERT для анализа тональности (финансовый русский)...\n"
     ]
    },
    {
     "name": "stderr",
     "output_type": "stream",
     "text": [
      "Device set to use cuda:0\n"
     ]
    },
    {
     "name": "stdout",
     "output_type": "stream",
     "text": [
      "\n",
      "=== НАЧАЛО АНАЛИЗА ===\n",
      "\n",
      "Подготовка данных...\n",
      "Найдено 8034 записей с новостями.\n",
      "\n",
      "-> Анализ тональности (пакетная обработка)...\n"
     ]
    },
    {
     "name": "stderr",
     "output_type": "stream",
     "text": [
      "Токенизация: 0it [00:00, ?it/s]Token indices sequence length is longer than the specified maximum sequence length for this model (2148 > 2048). Running this sequence through the model will result in indexing errors\n",
      "Токенизация: 8034it [00:31, 259.04it/s]\n"
     ]
    },
    {
     "name": "stdout",
     "output_type": "stream",
     "text": [
      "Анализ 4253 коротких текстов...\n"
     ]
    },
    {
     "name": "stderr",
     "output_type": "stream",
     "text": [
      "Анализ коротких текстов:  29%|██▉       | 10/34 [00:02<00:06,  3.91it/s]You seem to be using the pipelines sequentially on GPU. In order to maximize efficiency please use a dataset\n",
      "Анализ коротких текстов: 100%|██████████| 34/34 [00:08<00:00,  3.97it/s]\n"
     ]
    },
    {
     "name": "stdout",
     "output_type": "stream",
     "text": [
      "Анализ 17452 чанков из 3781 длинных текстов...\n"
     ]
    },
    {
     "name": "stderr",
     "output_type": "stream",
     "text": [
      "Анализ чанков длинных текстов: 100%|██████████| 137/137 [00:46<00:00,  2.92it/s]\n"
     ]
    }
   ],
   "source": [
    "import pandas as pd\n",
    "from transformers import pipeline, AutoTokenizer\n",
    "import torch\n",
    "from tqdm import tqdm\n",
    "import warnings\n",
    "warnings.filterwarnings('ignore')\n",
    "\n",
    "# ===== ИНИЦИАЛИЗАЦИЯ МОДЕЛЕЙ И ТОКЕНИЗАТОРА =====\n",
    "\n",
    "print(\"Загрузка RuBERT для анализа тональности (финансовый русский)...\")\n",
    "model_name = \"mxlcw/rubert-tiny2-russian-financial-sentiment\"\n",
    "sentiment_analyzer = pipeline(\n",
    "    \"sentiment-analysis\",\n",
    "    model=model_name,\n",
    "    device=0 if torch.cuda.is_available() else -1,\n",
    "    torch_dtype=torch.float16  # Добавляем FP16 для ускорения\n",
    ")\n",
    "tokenizer = AutoTokenizer.from_pretrained(model_name)\n",
    "MAX_TOKENS = 512\n",
    "\n",
    "# Маппинг лейблов модели\n",
    "LABEL_MAPPING = {\n",
    "    'LABEL_0': 'neutral',\n",
    "    'LABEL_1': 'positive',\n",
    "    'LABEL_2': 'negative'\n",
    "}\n",
    "\n",
    "# ===== ОСНОВНАЯ ОБРАБОТКА =====\n",
    "\n",
    "def main_processing(df):\n",
    "    print(\"\\n=== НАЧАЛО АНАЛИЗА ===\\n\")\n",
    "    \n",
    "    # Подготовка данных\n",
    "    print(\"Подготовка данных...\")\n",
    "    df['title'].fillna(\"\", inplace=True)\n",
    "    df['publication'].fillna(\"\", inplace=True)\n",
    "    df['full_text'] = df['title'].astype(str) + \". \" + df['publication'].astype(str)\n",
    "    \n",
    "    news_mask = df['full_text'].str.strip() != '.'\n",
    "    print(f\"Найдено {news_mask.sum()} записей с новостями.\")\n",
    "    if not news_mask.any():\n",
    "        return df\n",
    "\n",
    "    # Пакетный анализ тональности\n",
    "    print(\"\\n-> Анализ тональности (пакетная обработка)...\")\n",
    "    \n",
    "    long_texts_map = {}\n",
    "    short_texts_map = {}\n",
    "    \n",
    "    for idx, text in tqdm(df.loc[news_mask, 'full_text'].items(), desc=\"Токенизация\"):\n",
    "        if not text.strip():\n",
    "            continue\n",
    "        tokens = tokenizer.tokenize(text)\n",
    "        if len(tokens) > MAX_TOKENS - 2:\n",
    "            chunk_size = MAX_TOKENS - 2\n",
    "            stride = 400\n",
    "            text_chunks = []\n",
    "            for i in range(0, len(tokens), stride):\n",
    "                chunk_tokens = tokens[i:i + chunk_size]\n",
    "                if chunk_tokens:\n",
    "                    text_chunks.append(tokenizer.convert_tokens_to_string(chunk_tokens))\n",
    "            if text_chunks:\n",
    "                long_texts_map[idx] = text_chunks\n",
    "        else:\n",
    "            short_texts_map[idx] = text\n",
    "\n",
    "    batch_short_indices = list(short_texts_map.keys())\n",
    "    batch_short_texts = list(short_texts_map.values())\n",
    "    \n",
    "    batch_long_indices = []\n",
    "    batch_long_texts_chunks = []\n",
    "    for idx, chunks in long_texts_map.items():\n",
    "        for chunk in chunks:\n",
    "            batch_long_indices.append(idx)\n",
    "            batch_long_texts_chunks.append(chunk)\n",
    "\n",
    "    batch_size = 128 if torch.cuda.is_available() else 16\n",
    "    \n",
    "    short_sentiments = []\n",
    "    if batch_short_texts:\n",
    "        print(f\"Анализ {len(batch_short_texts)} коротких текстов...\")\n",
    "        short_sentiments = []\n",
    "        with torch.no_grad():\n",
    "            for i in tqdm(range(0, len(batch_short_texts), batch_size), desc=\"Анализ коротких текстов\"):\n",
    "                batch = batch_short_texts[i:i + batch_size]\n",
    "                batch_results = sentiment_analyzer(batch, top_k=None, batch_size=batch_size)\n",
    "                for results in batch_results:\n",
    "                    for r in results:\n",
    "                        r['label'] = LABEL_MAPPING.get(r['label'], r['label'])\n",
    "                short_sentiments.extend(batch_results)\n",
    "\n",
    "    long_sentiments_chunks = []\n",
    "    if batch_long_texts_chunks:\n",
    "        print(f\"Анализ {len(batch_long_texts_chunks)} чанков из {len(long_texts_map)} длинных текстов...\")\n",
    "        long_sentiments_chunks = []\n",
    "        with torch.no_grad():\n",
    "            for i in tqdm(range(0, len(batch_long_texts_chunks), batch_size), desc=\"Анализ чанков длинных текстов\"):\n",
    "                batch = batch_long_texts_chunks[i:i + batch_size]\n",
    "                batch_results = sentiment_analyzer(batch, top_k=None, batch_size=batch_size)\n",
    "                # Ремап лейблов\n",
    "                for results in batch_results:\n",
    "                    for r in results:\n",
    "                        r['label'] = LABEL_MAPPING.get(r['label'], r['label'])\n",
    "                long_sentiments_chunks.extend(batch_results)\n",
    "    \n",
    "    all_results = {}\n",
    "\n",
    "    for i, index in enumerate(batch_short_indices):\n",
    "        all_results[index] = short_sentiments[i]\n",
    "\n",
    "    aggregated_long_sentiments = {}\n",
    "    for i, original_index in enumerate(batch_long_indices):\n",
    "        if original_index not in aggregated_long_sentiments:\n",
    "            aggregated_long_sentiments[original_index] = []\n",
    "        aggregated_long_sentiments[original_index].append(long_sentiments_chunks[i])\n",
    "\n",
    "    for index, result_list_of_lists in aggregated_long_sentiments.items():\n",
    "        max_sentiment_score = -1\n",
    "        best_result = None\n",
    "        for result_list in result_list_of_lists:\n",
    "            probs = {r['label']: r['score'] for r in result_list}\n",
    "            current_max = max(probs.get('positive', 0), probs.get('negative', 0))\n",
    "            if current_max > max_sentiment_score:\n",
    "                max_sentiment_score = current_max\n",
    "                best_result = result_list\n",
    "        if best_result:\n",
    "            all_results[index] = best_result\n",
    "\n",
    "    final_sentiment_data = []\n",
    "    for index, results in all_results.items():\n",
    "        probs = {r['label']: r['score'] for r in results}\n",
    "        dominant = max(results, key=lambda x: x['score'])\n",
    "        score = probs.get('positive', 0) - probs.get('negative', 0)\n",
    "        final_sentiment_data.append({\n",
    "            'index': index, 'sentiment_score': score, 'sentiment_label': dominant['label'],\n",
    "            'positive_prob': probs.get('positive', 0), 'negative_prob': probs.get('negative', 0),\n",
    "            'neutral_prob': probs.get('neutral', 0), 'confidence': dominant['score']\n",
    "        })\n",
    "    \n",
    "    if final_sentiment_data:\n",
    "        sentiment_df = pd.DataFrame(final_sentiment_data).set_index('index')\n",
    "        df = df.join(sentiment_df)\n",
    "    \n",
    "    return df\n",
    "\n",
    "\n",
    "df_processed = main_processing(df.copy())\n",
    "\n",
    "df_processed.to_csv('news_analysis_complete.csv', index=False)"
   ]
  },
  {
   "cell_type": "code",
   "execution_count": 9,
   "metadata": {
    "execution": {
     "iopub.execute_input": "2025-10-04T23:51:05.551150Z",
     "iopub.status.busy": "2025-10-04T23:51:05.550589Z",
     "iopub.status.idle": "2025-10-04T23:51:05.558986Z",
     "shell.execute_reply": "2025-10-04T23:51:05.558254Z",
     "shell.execute_reply.started": "2025-10-04T23:51:05.551104Z"
    }
   },
   "outputs": [],
   "source": [
    "df_processed = df_processed.drop(['title', 'publication', 'full_text'],axis = 1)"
   ]
  },
  {
   "cell_type": "code",
   "execution_count": 10,
   "metadata": {
    "execution": {
     "iopub.execute_input": "2025-10-04T23:51:05.560208Z",
     "iopub.status.busy": "2025-10-04T23:51:05.559917Z",
     "iopub.status.idle": "2025-10-04T23:51:05.581661Z",
     "shell.execute_reply": "2025-10-04T23:51:05.580939Z",
     "shell.execute_reply.started": "2025-10-04T23:51:05.560181Z"
    }
   },
   "outputs": [],
   "source": [
    "mapping = {\n",
    "    'negative': -1,\n",
    "    'neutral': 0,\n",
    "    'positive': 1\n",
    "}\n",
    "\n",
    "df_processed['sentiment_label'] = df_processed['sentiment_label'].map(mapping)"
   ]
  },
  {
   "cell_type": "code",
   "execution_count": 11,
   "metadata": {
    "execution": {
     "iopub.execute_input": "2025-10-04T23:51:05.583284Z",
     "iopub.status.busy": "2025-10-04T23:51:05.582548Z",
     "iopub.status.idle": "2025-10-04T23:51:05.606946Z",
     "shell.execute_reply": "2025-10-04T23:51:05.606204Z",
     "shell.execute_reply.started": "2025-10-04T23:51:05.583260Z"
    }
   },
   "outputs": [
    {
     "data": {
      "text/html": [
       "<div>\n",
       "<style scoped>\n",
       "    .dataframe tbody tr th:only-of-type {\n",
       "        vertical-align: middle;\n",
       "    }\n",
       "\n",
       "    .dataframe tbody tr th {\n",
       "        vertical-align: top;\n",
       "    }\n",
       "\n",
       "    .dataframe thead th {\n",
       "        text-align: right;\n",
       "    }\n",
       "</style>\n",
       "<table border=\"1\" class=\"dataframe\">\n",
       "  <thead>\n",
       "    <tr style=\"text-align: right;\">\n",
       "      <th></th>\n",
       "      <th>open</th>\n",
       "      <th>close</th>\n",
       "      <th>high</th>\n",
       "      <th>low</th>\n",
       "      <th>volume</th>\n",
       "      <th>ticker</th>\n",
       "      <th>date</th>\n",
       "      <th>sentiment_score</th>\n",
       "      <th>sentiment_label</th>\n",
       "      <th>positive_prob</th>\n",
       "      <th>negative_prob</th>\n",
       "      <th>neutral_prob</th>\n",
       "      <th>confidence</th>\n",
       "    </tr>\n",
       "  </thead>\n",
       "  <tbody>\n",
       "    <tr>\n",
       "      <th>0</th>\n",
       "      <td>81.50</td>\n",
       "      <td>81.70</td>\n",
       "      <td>83.20</td>\n",
       "      <td>81.16</td>\n",
       "      <td>29755530</td>\n",
       "      <td>AFLT</td>\n",
       "      <td>2020-06-19</td>\n",
       "      <td>-0.753348</td>\n",
       "      <td>-1.0</td>\n",
       "      <td>0.020257</td>\n",
       "      <td>0.773604</td>\n",
       "      <td>0.206139</td>\n",
       "      <td>0.773604</td>\n",
       "    </tr>\n",
       "    <tr>\n",
       "      <th>1</th>\n",
       "      <td>81.72</td>\n",
       "      <td>82.10</td>\n",
       "      <td>83.98</td>\n",
       "      <td>80.26</td>\n",
       "      <td>18502950</td>\n",
       "      <td>AFLT</td>\n",
       "      <td>2020-06-22</td>\n",
       "      <td>-0.808347</td>\n",
       "      <td>-1.0</td>\n",
       "      <td>0.072441</td>\n",
       "      <td>0.880788</td>\n",
       "      <td>0.046771</td>\n",
       "      <td>0.880788</td>\n",
       "    </tr>\n",
       "    <tr>\n",
       "      <th>2</th>\n",
       "      <td>82.04</td>\n",
       "      <td>81.20</td>\n",
       "      <td>82.48</td>\n",
       "      <td>80.40</td>\n",
       "      <td>16848930</td>\n",
       "      <td>AFLT</td>\n",
       "      <td>2020-06-23</td>\n",
       "      <td>0.656769</td>\n",
       "      <td>1.0</td>\n",
       "      <td>0.716765</td>\n",
       "      <td>0.059996</td>\n",
       "      <td>0.223239</td>\n",
       "      <td>0.716765</td>\n",
       "    </tr>\n",
       "    <tr>\n",
       "      <th>3</th>\n",
       "      <td>79.78</td>\n",
       "      <td>80.58</td>\n",
       "      <td>80.80</td>\n",
       "      <td>78.22</td>\n",
       "      <td>21559860</td>\n",
       "      <td>AFLT</td>\n",
       "      <td>2020-06-25</td>\n",
       "      <td>NaN</td>\n",
       "      <td>NaN</td>\n",
       "      <td>NaN</td>\n",
       "      <td>NaN</td>\n",
       "      <td>NaN</td>\n",
       "      <td>NaN</td>\n",
       "    </tr>\n",
       "    <tr>\n",
       "      <th>4</th>\n",
       "      <td>80.50</td>\n",
       "      <td>79.38</td>\n",
       "      <td>81.44</td>\n",
       "      <td>78.76</td>\n",
       "      <td>14677280</td>\n",
       "      <td>AFLT</td>\n",
       "      <td>2020-06-26</td>\n",
       "      <td>0.308057</td>\n",
       "      <td>0.0</td>\n",
       "      <td>0.319556</td>\n",
       "      <td>0.011499</td>\n",
       "      <td>0.668945</td>\n",
       "      <td>0.668945</td>\n",
       "    </tr>\n",
       "    <tr>\n",
       "      <th>...</th>\n",
       "      <td>...</td>\n",
       "      <td>...</td>\n",
       "      <td>...</td>\n",
       "      <td>...</td>\n",
       "      <td>...</td>\n",
       "      <td>...</td>\n",
       "      <td>...</td>\n",
       "      <td>...</td>\n",
       "      <td>...</td>\n",
       "      <td>...</td>\n",
       "      <td>...</td>\n",
       "      <td>...</td>\n",
       "      <td>...</td>\n",
       "    </tr>\n",
       "    <tr>\n",
       "      <th>25937</th>\n",
       "      <td>75.10</td>\n",
       "      <td>75.74</td>\n",
       "      <td>75.96</td>\n",
       "      <td>74.61</td>\n",
       "      <td>49552606</td>\n",
       "      <td>VTBR</td>\n",
       "      <td>2025-09-04</td>\n",
       "      <td>0.228645</td>\n",
       "      <td>0.0</td>\n",
       "      <td>0.312902</td>\n",
       "      <td>0.084258</td>\n",
       "      <td>0.602840</td>\n",
       "      <td>0.602840</td>\n",
       "    </tr>\n",
       "    <tr>\n",
       "      <th>25938</th>\n",
       "      <td>75.85</td>\n",
       "      <td>75.50</td>\n",
       "      <td>76.13</td>\n",
       "      <td>74.94</td>\n",
       "      <td>40701093</td>\n",
       "      <td>VTBR</td>\n",
       "      <td>2025-09-05</td>\n",
       "      <td>0.721074</td>\n",
       "      <td>1.0</td>\n",
       "      <td>0.771358</td>\n",
       "      <td>0.050284</td>\n",
       "      <td>0.178359</td>\n",
       "      <td>0.771358</td>\n",
       "    </tr>\n",
       "    <tr>\n",
       "      <th>25939</th>\n",
       "      <td>75.59</td>\n",
       "      <td>75.64</td>\n",
       "      <td>75.71</td>\n",
       "      <td>75.35</td>\n",
       "      <td>1681425</td>\n",
       "      <td>VTBR</td>\n",
       "      <td>2025-09-06</td>\n",
       "      <td>NaN</td>\n",
       "      <td>NaN</td>\n",
       "      <td>NaN</td>\n",
       "      <td>NaN</td>\n",
       "      <td>NaN</td>\n",
       "      <td>NaN</td>\n",
       "    </tr>\n",
       "    <tr>\n",
       "      <th>25940</th>\n",
       "      <td>75.69</td>\n",
       "      <td>75.68</td>\n",
       "      <td>75.85</td>\n",
       "      <td>75.50</td>\n",
       "      <td>2186520</td>\n",
       "      <td>VTBR</td>\n",
       "      <td>2025-09-07</td>\n",
       "      <td>NaN</td>\n",
       "      <td>NaN</td>\n",
       "      <td>NaN</td>\n",
       "      <td>NaN</td>\n",
       "      <td>NaN</td>\n",
       "      <td>NaN</td>\n",
       "    </tr>\n",
       "    <tr>\n",
       "      <th>25941</th>\n",
       "      <td>75.68</td>\n",
       "      <td>75.23</td>\n",
       "      <td>76.05</td>\n",
       "      <td>74.85</td>\n",
       "      <td>31765976</td>\n",
       "      <td>VTBR</td>\n",
       "      <td>2025-09-08</td>\n",
       "      <td>NaN</td>\n",
       "      <td>NaN</td>\n",
       "      <td>NaN</td>\n",
       "      <td>NaN</td>\n",
       "      <td>NaN</td>\n",
       "      <td>NaN</td>\n",
       "    </tr>\n",
       "  </tbody>\n",
       "</table>\n",
       "<p>25942 rows × 13 columns</p>\n",
       "</div>"
      ],
      "text/plain": [
       "        open  close   high    low    volume ticker       date  \\\n",
       "0      81.50  81.70  83.20  81.16  29755530   AFLT 2020-06-19   \n",
       "1      81.72  82.10  83.98  80.26  18502950   AFLT 2020-06-22   \n",
       "2      82.04  81.20  82.48  80.40  16848930   AFLT 2020-06-23   \n",
       "3      79.78  80.58  80.80  78.22  21559860   AFLT 2020-06-25   \n",
       "4      80.50  79.38  81.44  78.76  14677280   AFLT 2020-06-26   \n",
       "...      ...    ...    ...    ...       ...    ...        ...   \n",
       "25937  75.10  75.74  75.96  74.61  49552606   VTBR 2025-09-04   \n",
       "25938  75.85  75.50  76.13  74.94  40701093   VTBR 2025-09-05   \n",
       "25939  75.59  75.64  75.71  75.35   1681425   VTBR 2025-09-06   \n",
       "25940  75.69  75.68  75.85  75.50   2186520   VTBR 2025-09-07   \n",
       "25941  75.68  75.23  76.05  74.85  31765976   VTBR 2025-09-08   \n",
       "\n",
       "       sentiment_score  sentiment_label  positive_prob  negative_prob  \\\n",
       "0            -0.753348             -1.0       0.020257       0.773604   \n",
       "1            -0.808347             -1.0       0.072441       0.880788   \n",
       "2             0.656769              1.0       0.716765       0.059996   \n",
       "3                  NaN              NaN            NaN            NaN   \n",
       "4             0.308057              0.0       0.319556       0.011499   \n",
       "...                ...              ...            ...            ...   \n",
       "25937         0.228645              0.0       0.312902       0.084258   \n",
       "25938         0.721074              1.0       0.771358       0.050284   \n",
       "25939              NaN              NaN            NaN            NaN   \n",
       "25940              NaN              NaN            NaN            NaN   \n",
       "25941              NaN              NaN            NaN            NaN   \n",
       "\n",
       "       neutral_prob  confidence  \n",
       "0          0.206139    0.773604  \n",
       "1          0.046771    0.880788  \n",
       "2          0.223239    0.716765  \n",
       "3               NaN         NaN  \n",
       "4          0.668945    0.668945  \n",
       "...             ...         ...  \n",
       "25937      0.602840    0.602840  \n",
       "25938      0.178359    0.771358  \n",
       "25939           NaN         NaN  \n",
       "25940           NaN         NaN  \n",
       "25941           NaN         NaN  \n",
       "\n",
       "[25942 rows x 13 columns]"
      ]
     },
     "execution_count": 11,
     "metadata": {},
     "output_type": "execute_result"
    }
   ],
   "source": [
    "df_processed"
   ]
  },
  {
   "cell_type": "markdown",
   "metadata": {},
   "source": [
    "## Feature enjineering"
   ]
  },
  {
   "cell_type": "code",
   "execution_count": null,
   "metadata": {},
   "outputs": [],
   "source": []
  },
  {
   "cell_type": "code",
   "execution_count": 12,
   "metadata": {
    "execution": {
     "iopub.execute_input": "2025-10-04T23:51:05.609470Z",
     "iopub.status.busy": "2025-10-04T23:51:05.609190Z",
     "iopub.status.idle": "2025-10-04T23:51:05.655233Z",
     "shell.execute_reply": "2025-10-04T23:51:05.654440Z",
     "shell.execute_reply.started": "2025-10-04T23:51:05.609453Z"
    }
   },
   "outputs": [
    {
     "name": "stdout",
     "output_type": "stream",
     "text": [
      "Шаг 1: Предварительная обработка данных...\n"
     ]
    }
   ],
   "source": [
    "import pandas as pd\n",
    "import numpy as np\n",
    "import tensorflow as tf\n",
    "from tensorflow.keras.models import Sequential\n",
    "from tensorflow.keras.layers import LSTM, Bidirectional, Dense, Dropout\n",
    "from tensorflow.keras.callbacks import EarlyStopping\n",
    "from sklearn.preprocessing import MinMaxScaler\n",
    "from sklearn.model_selection import train_test_split\n",
    "import io\n",
    "\n",
    "\n",
    "# 1. Предварительная обработка данных\n",
    "print(\"Шаг 1: Предварительная обработка данных...\")\n",
    "df_processed['date'] = pd.to_datetime(df_processed['date'])\n",
    "df_processed.sort_values(by=['ticker', 'date'], inplace=True)\n",
    "\n",
    "sentiment_cols = ['sentiment_score', 'sentiment_label', 'positive_prob', 'negative_prob', 'neutral_prob', 'confidence']\n",
    "df_processed[sentiment_cols] = df_processed.groupby('ticker')[sentiment_cols].ffill().bfill()\n",
    "df_processed.dropna(subset=sentiment_cols, inplace=True)\n",
    "\n",
    "df_processed['return'] = df_processed.groupby('ticker')['close'].pct_change()\n",
    "df_processed.dropna(subset=['return'], inplace=True)\n",
    "\n",
    "# 2. Определение признаков и констант\n",
    "FEATURES = ['open', 'close', 'high', 'low', 'volume', 'return'] + sentiment_cols\n",
    "TARGET = 'return'"
   ]
  },
  {
   "cell_type": "code",
   "execution_count": 13,
   "metadata": {
    "execution": {
     "iopub.execute_input": "2025-10-04T23:51:05.656639Z",
     "iopub.status.busy": "2025-10-04T23:51:05.656160Z",
     "iopub.status.idle": "2025-10-04T23:51:05.671127Z",
     "shell.execute_reply": "2025-10-04T23:51:05.670419Z",
     "shell.execute_reply.started": "2025-10-04T23:51:05.656610Z"
    }
   },
   "outputs": [
    {
     "data": {
      "text/html": [
       "<div>\n",
       "<style scoped>\n",
       "    .dataframe tbody tr th:only-of-type {\n",
       "        vertical-align: middle;\n",
       "    }\n",
       "\n",
       "    .dataframe tbody tr th {\n",
       "        vertical-align: top;\n",
       "    }\n",
       "\n",
       "    .dataframe thead th {\n",
       "        text-align: right;\n",
       "    }\n",
       "</style>\n",
       "<table border=\"1\" class=\"dataframe\">\n",
       "  <thead>\n",
       "    <tr style=\"text-align: right;\">\n",
       "      <th></th>\n",
       "      <th>open</th>\n",
       "      <th>close</th>\n",
       "      <th>high</th>\n",
       "      <th>low</th>\n",
       "      <th>volume</th>\n",
       "      <th>ticker</th>\n",
       "      <th>date</th>\n",
       "      <th>sentiment_score</th>\n",
       "      <th>sentiment_label</th>\n",
       "      <th>positive_prob</th>\n",
       "      <th>negative_prob</th>\n",
       "      <th>neutral_prob</th>\n",
       "      <th>confidence</th>\n",
       "      <th>return</th>\n",
       "    </tr>\n",
       "  </thead>\n",
       "  <tbody>\n",
       "    <tr>\n",
       "      <th>1</th>\n",
       "      <td>81.72</td>\n",
       "      <td>82.10</td>\n",
       "      <td>83.98</td>\n",
       "      <td>80.26</td>\n",
       "      <td>18502950</td>\n",
       "      <td>AFLT</td>\n",
       "      <td>2020-06-22</td>\n",
       "      <td>-0.808347</td>\n",
       "      <td>-1.0</td>\n",
       "      <td>0.072441</td>\n",
       "      <td>0.880788</td>\n",
       "      <td>0.046771</td>\n",
       "      <td>0.880788</td>\n",
       "      <td>0.004896</td>\n",
       "    </tr>\n",
       "    <tr>\n",
       "      <th>2</th>\n",
       "      <td>82.04</td>\n",
       "      <td>81.20</td>\n",
       "      <td>82.48</td>\n",
       "      <td>80.40</td>\n",
       "      <td>16848930</td>\n",
       "      <td>AFLT</td>\n",
       "      <td>2020-06-23</td>\n",
       "      <td>0.656769</td>\n",
       "      <td>1.0</td>\n",
       "      <td>0.716765</td>\n",
       "      <td>0.059996</td>\n",
       "      <td>0.223239</td>\n",
       "      <td>0.716765</td>\n",
       "      <td>-0.010962</td>\n",
       "    </tr>\n",
       "    <tr>\n",
       "      <th>3</th>\n",
       "      <td>79.78</td>\n",
       "      <td>80.58</td>\n",
       "      <td>80.80</td>\n",
       "      <td>78.22</td>\n",
       "      <td>21559860</td>\n",
       "      <td>AFLT</td>\n",
       "      <td>2020-06-25</td>\n",
       "      <td>0.656769</td>\n",
       "      <td>1.0</td>\n",
       "      <td>0.716765</td>\n",
       "      <td>0.059996</td>\n",
       "      <td>0.223239</td>\n",
       "      <td>0.716765</td>\n",
       "      <td>-0.007635</td>\n",
       "    </tr>\n",
       "    <tr>\n",
       "      <th>4</th>\n",
       "      <td>80.50</td>\n",
       "      <td>79.38</td>\n",
       "      <td>81.44</td>\n",
       "      <td>78.76</td>\n",
       "      <td>14677280</td>\n",
       "      <td>AFLT</td>\n",
       "      <td>2020-06-26</td>\n",
       "      <td>0.308057</td>\n",
       "      <td>0.0</td>\n",
       "      <td>0.319556</td>\n",
       "      <td>0.011499</td>\n",
       "      <td>0.668945</td>\n",
       "      <td>0.668945</td>\n",
       "      <td>-0.014892</td>\n",
       "    </tr>\n",
       "    <tr>\n",
       "      <th>5</th>\n",
       "      <td>79.00</td>\n",
       "      <td>82.90</td>\n",
       "      <td>83.00</td>\n",
       "      <td>77.44</td>\n",
       "      <td>37790740</td>\n",
       "      <td>AFLT</td>\n",
       "      <td>2020-06-29</td>\n",
       "      <td>-0.824868</td>\n",
       "      <td>-1.0</td>\n",
       "      <td>0.038297</td>\n",
       "      <td>0.863165</td>\n",
       "      <td>0.098538</td>\n",
       "      <td>0.863165</td>\n",
       "      <td>0.044344</td>\n",
       "    </tr>\n",
       "    <tr>\n",
       "      <th>...</th>\n",
       "      <td>...</td>\n",
       "      <td>...</td>\n",
       "      <td>...</td>\n",
       "      <td>...</td>\n",
       "      <td>...</td>\n",
       "      <td>...</td>\n",
       "      <td>...</td>\n",
       "      <td>...</td>\n",
       "      <td>...</td>\n",
       "      <td>...</td>\n",
       "      <td>...</td>\n",
       "      <td>...</td>\n",
       "      <td>...</td>\n",
       "      <td>...</td>\n",
       "    </tr>\n",
       "    <tr>\n",
       "      <th>25937</th>\n",
       "      <td>75.10</td>\n",
       "      <td>75.74</td>\n",
       "      <td>75.96</td>\n",
       "      <td>74.61</td>\n",
       "      <td>49552606</td>\n",
       "      <td>VTBR</td>\n",
       "      <td>2025-09-04</td>\n",
       "      <td>0.228645</td>\n",
       "      <td>0.0</td>\n",
       "      <td>0.312902</td>\n",
       "      <td>0.084258</td>\n",
       "      <td>0.602840</td>\n",
       "      <td>0.602840</td>\n",
       "      <td>0.008119</td>\n",
       "    </tr>\n",
       "    <tr>\n",
       "      <th>25938</th>\n",
       "      <td>75.85</td>\n",
       "      <td>75.50</td>\n",
       "      <td>76.13</td>\n",
       "      <td>74.94</td>\n",
       "      <td>40701093</td>\n",
       "      <td>VTBR</td>\n",
       "      <td>2025-09-05</td>\n",
       "      <td>0.721074</td>\n",
       "      <td>1.0</td>\n",
       "      <td>0.771358</td>\n",
       "      <td>0.050284</td>\n",
       "      <td>0.178359</td>\n",
       "      <td>0.771358</td>\n",
       "      <td>-0.003169</td>\n",
       "    </tr>\n",
       "    <tr>\n",
       "      <th>25939</th>\n",
       "      <td>75.59</td>\n",
       "      <td>75.64</td>\n",
       "      <td>75.71</td>\n",
       "      <td>75.35</td>\n",
       "      <td>1681425</td>\n",
       "      <td>VTBR</td>\n",
       "      <td>2025-09-06</td>\n",
       "      <td>0.721074</td>\n",
       "      <td>1.0</td>\n",
       "      <td>0.771358</td>\n",
       "      <td>0.050284</td>\n",
       "      <td>0.178359</td>\n",
       "      <td>0.771358</td>\n",
       "      <td>0.001854</td>\n",
       "    </tr>\n",
       "    <tr>\n",
       "      <th>25940</th>\n",
       "      <td>75.69</td>\n",
       "      <td>75.68</td>\n",
       "      <td>75.85</td>\n",
       "      <td>75.50</td>\n",
       "      <td>2186520</td>\n",
       "      <td>VTBR</td>\n",
       "      <td>2025-09-07</td>\n",
       "      <td>0.721074</td>\n",
       "      <td>1.0</td>\n",
       "      <td>0.771358</td>\n",
       "      <td>0.050284</td>\n",
       "      <td>0.178359</td>\n",
       "      <td>0.771358</td>\n",
       "      <td>0.000529</td>\n",
       "    </tr>\n",
       "    <tr>\n",
       "      <th>25941</th>\n",
       "      <td>75.68</td>\n",
       "      <td>75.23</td>\n",
       "      <td>76.05</td>\n",
       "      <td>74.85</td>\n",
       "      <td>31765976</td>\n",
       "      <td>VTBR</td>\n",
       "      <td>2025-09-08</td>\n",
       "      <td>0.721074</td>\n",
       "      <td>1.0</td>\n",
       "      <td>0.771358</td>\n",
       "      <td>0.050284</td>\n",
       "      <td>0.178359</td>\n",
       "      <td>0.771358</td>\n",
       "      <td>-0.005946</td>\n",
       "    </tr>\n",
       "  </tbody>\n",
       "</table>\n",
       "<p>25923 rows × 14 columns</p>\n",
       "</div>"
      ],
      "text/plain": [
       "        open  close   high    low    volume ticker       date  \\\n",
       "1      81.72  82.10  83.98  80.26  18502950   AFLT 2020-06-22   \n",
       "2      82.04  81.20  82.48  80.40  16848930   AFLT 2020-06-23   \n",
       "3      79.78  80.58  80.80  78.22  21559860   AFLT 2020-06-25   \n",
       "4      80.50  79.38  81.44  78.76  14677280   AFLT 2020-06-26   \n",
       "5      79.00  82.90  83.00  77.44  37790740   AFLT 2020-06-29   \n",
       "...      ...    ...    ...    ...       ...    ...        ...   \n",
       "25937  75.10  75.74  75.96  74.61  49552606   VTBR 2025-09-04   \n",
       "25938  75.85  75.50  76.13  74.94  40701093   VTBR 2025-09-05   \n",
       "25939  75.59  75.64  75.71  75.35   1681425   VTBR 2025-09-06   \n",
       "25940  75.69  75.68  75.85  75.50   2186520   VTBR 2025-09-07   \n",
       "25941  75.68  75.23  76.05  74.85  31765976   VTBR 2025-09-08   \n",
       "\n",
       "       sentiment_score  sentiment_label  positive_prob  negative_prob  \\\n",
       "1            -0.808347             -1.0       0.072441       0.880788   \n",
       "2             0.656769              1.0       0.716765       0.059996   \n",
       "3             0.656769              1.0       0.716765       0.059996   \n",
       "4             0.308057              0.0       0.319556       0.011499   \n",
       "5            -0.824868             -1.0       0.038297       0.863165   \n",
       "...                ...              ...            ...            ...   \n",
       "25937         0.228645              0.0       0.312902       0.084258   \n",
       "25938         0.721074              1.0       0.771358       0.050284   \n",
       "25939         0.721074              1.0       0.771358       0.050284   \n",
       "25940         0.721074              1.0       0.771358       0.050284   \n",
       "25941         0.721074              1.0       0.771358       0.050284   \n",
       "\n",
       "       neutral_prob  confidence    return  \n",
       "1          0.046771    0.880788  0.004896  \n",
       "2          0.223239    0.716765 -0.010962  \n",
       "3          0.223239    0.716765 -0.007635  \n",
       "4          0.668945    0.668945 -0.014892  \n",
       "5          0.098538    0.863165  0.044344  \n",
       "...             ...         ...       ...  \n",
       "25937      0.602840    0.602840  0.008119  \n",
       "25938      0.178359    0.771358 -0.003169  \n",
       "25939      0.178359    0.771358  0.001854  \n",
       "25940      0.178359    0.771358  0.000529  \n",
       "25941      0.178359    0.771358 -0.005946  \n",
       "\n",
       "[25923 rows x 14 columns]"
      ]
     },
     "execution_count": 13,
     "metadata": {},
     "output_type": "execute_result"
    }
   ],
   "source": [
    "df_processed"
   ]
  },
  {
   "cell_type": "code",
   "execution_count": 14,
   "metadata": {
    "execution": {
     "iopub.execute_input": "2025-10-04T23:51:05.672001Z",
     "iopub.status.busy": "2025-10-04T23:51:05.671809Z",
     "iopub.status.idle": "2025-10-04T23:51:08.730843Z",
     "shell.execute_reply": "2025-10-04T23:51:08.729958Z",
     "shell.execute_reply.started": "2025-10-04T23:51:05.671985Z"
    }
   },
   "outputs": [
    {
     "name": "stdout",
     "output_type": "stream",
     "text": [
      "Note: you may need to restart the kernel to use updated packages.\n"
     ]
    }
   ],
   "source": [
    "pip install TA-Lib -q"
   ]
  },
  {
   "cell_type": "code",
   "execution_count": 15,
   "metadata": {
    "execution": {
     "iopub.execute_input": "2025-10-04T23:51:08.732271Z",
     "iopub.status.busy": "2025-10-04T23:51:08.732001Z",
     "iopub.status.idle": "2025-10-04T23:51:11.788139Z",
     "shell.execute_reply": "2025-10-04T23:51:11.787212Z",
     "shell.execute_reply.started": "2025-10-04T23:51:08.732247Z"
    }
   },
   "outputs": [
    {
     "name": "stdout",
     "output_type": "stream",
     "text": [
      "Note: you may need to restart the kernel to use updated packages.\n"
     ]
    }
   ],
   "source": [
    "pip install tabm -q"
   ]
  },
  {
   "cell_type": "code",
   "execution_count": 16,
   "metadata": {
    "execution": {
     "iopub.execute_input": "2025-10-04T23:51:11.789531Z",
     "iopub.status.busy": "2025-10-04T23:51:11.789244Z",
     "iopub.status.idle": "2025-10-04T23:51:11.807588Z",
     "shell.execute_reply": "2025-10-04T23:51:11.806684Z",
     "shell.execute_reply.started": "2025-10-04T23:51:11.789504Z"
    }
   },
   "outputs": [
    {
     "data": {
      "text/html": [
       "<div>\n",
       "<style scoped>\n",
       "    .dataframe tbody tr th:only-of-type {\n",
       "        vertical-align: middle;\n",
       "    }\n",
       "\n",
       "    .dataframe tbody tr th {\n",
       "        vertical-align: top;\n",
       "    }\n",
       "\n",
       "    .dataframe thead th {\n",
       "        text-align: right;\n",
       "    }\n",
       "</style>\n",
       "<table border=\"1\" class=\"dataframe\">\n",
       "  <thead>\n",
       "    <tr style=\"text-align: right;\">\n",
       "      <th></th>\n",
       "      <th>open</th>\n",
       "      <th>close</th>\n",
       "      <th>high</th>\n",
       "      <th>low</th>\n",
       "      <th>volume</th>\n",
       "      <th>ticker</th>\n",
       "      <th>date</th>\n",
       "      <th>sentiment_score</th>\n",
       "      <th>sentiment_label</th>\n",
       "      <th>positive_prob</th>\n",
       "      <th>negative_prob</th>\n",
       "      <th>neutral_prob</th>\n",
       "      <th>confidence</th>\n",
       "      <th>return</th>\n",
       "    </tr>\n",
       "  </thead>\n",
       "  <tbody>\n",
       "    <tr>\n",
       "      <th>1</th>\n",
       "      <td>81.72</td>\n",
       "      <td>82.10</td>\n",
       "      <td>83.98</td>\n",
       "      <td>80.26</td>\n",
       "      <td>18502950</td>\n",
       "      <td>AFLT</td>\n",
       "      <td>2020-06-22</td>\n",
       "      <td>-0.808347</td>\n",
       "      <td>-1.0</td>\n",
       "      <td>0.072441</td>\n",
       "      <td>0.880788</td>\n",
       "      <td>0.046771</td>\n",
       "      <td>0.880788</td>\n",
       "      <td>0.004896</td>\n",
       "    </tr>\n",
       "    <tr>\n",
       "      <th>2</th>\n",
       "      <td>82.04</td>\n",
       "      <td>81.20</td>\n",
       "      <td>82.48</td>\n",
       "      <td>80.40</td>\n",
       "      <td>16848930</td>\n",
       "      <td>AFLT</td>\n",
       "      <td>2020-06-23</td>\n",
       "      <td>0.656769</td>\n",
       "      <td>1.0</td>\n",
       "      <td>0.716765</td>\n",
       "      <td>0.059996</td>\n",
       "      <td>0.223239</td>\n",
       "      <td>0.716765</td>\n",
       "      <td>-0.010962</td>\n",
       "    </tr>\n",
       "    <tr>\n",
       "      <th>3</th>\n",
       "      <td>79.78</td>\n",
       "      <td>80.58</td>\n",
       "      <td>80.80</td>\n",
       "      <td>78.22</td>\n",
       "      <td>21559860</td>\n",
       "      <td>AFLT</td>\n",
       "      <td>2020-06-25</td>\n",
       "      <td>0.656769</td>\n",
       "      <td>1.0</td>\n",
       "      <td>0.716765</td>\n",
       "      <td>0.059996</td>\n",
       "      <td>0.223239</td>\n",
       "      <td>0.716765</td>\n",
       "      <td>-0.007635</td>\n",
       "    </tr>\n",
       "    <tr>\n",
       "      <th>4</th>\n",
       "      <td>80.50</td>\n",
       "      <td>79.38</td>\n",
       "      <td>81.44</td>\n",
       "      <td>78.76</td>\n",
       "      <td>14677280</td>\n",
       "      <td>AFLT</td>\n",
       "      <td>2020-06-26</td>\n",
       "      <td>0.308057</td>\n",
       "      <td>0.0</td>\n",
       "      <td>0.319556</td>\n",
       "      <td>0.011499</td>\n",
       "      <td>0.668945</td>\n",
       "      <td>0.668945</td>\n",
       "      <td>-0.014892</td>\n",
       "    </tr>\n",
       "    <tr>\n",
       "      <th>5</th>\n",
       "      <td>79.00</td>\n",
       "      <td>82.90</td>\n",
       "      <td>83.00</td>\n",
       "      <td>77.44</td>\n",
       "      <td>37790740</td>\n",
       "      <td>AFLT</td>\n",
       "      <td>2020-06-29</td>\n",
       "      <td>-0.824868</td>\n",
       "      <td>-1.0</td>\n",
       "      <td>0.038297</td>\n",
       "      <td>0.863165</td>\n",
       "      <td>0.098538</td>\n",
       "      <td>0.863165</td>\n",
       "      <td>0.044344</td>\n",
       "    </tr>\n",
       "    <tr>\n",
       "      <th>...</th>\n",
       "      <td>...</td>\n",
       "      <td>...</td>\n",
       "      <td>...</td>\n",
       "      <td>...</td>\n",
       "      <td>...</td>\n",
       "      <td>...</td>\n",
       "      <td>...</td>\n",
       "      <td>...</td>\n",
       "      <td>...</td>\n",
       "      <td>...</td>\n",
       "      <td>...</td>\n",
       "      <td>...</td>\n",
       "      <td>...</td>\n",
       "      <td>...</td>\n",
       "    </tr>\n",
       "    <tr>\n",
       "      <th>25937</th>\n",
       "      <td>75.10</td>\n",
       "      <td>75.74</td>\n",
       "      <td>75.96</td>\n",
       "      <td>74.61</td>\n",
       "      <td>49552606</td>\n",
       "      <td>VTBR</td>\n",
       "      <td>2025-09-04</td>\n",
       "      <td>0.228645</td>\n",
       "      <td>0.0</td>\n",
       "      <td>0.312902</td>\n",
       "      <td>0.084258</td>\n",
       "      <td>0.602840</td>\n",
       "      <td>0.602840</td>\n",
       "      <td>0.008119</td>\n",
       "    </tr>\n",
       "    <tr>\n",
       "      <th>25938</th>\n",
       "      <td>75.85</td>\n",
       "      <td>75.50</td>\n",
       "      <td>76.13</td>\n",
       "      <td>74.94</td>\n",
       "      <td>40701093</td>\n",
       "      <td>VTBR</td>\n",
       "      <td>2025-09-05</td>\n",
       "      <td>0.721074</td>\n",
       "      <td>1.0</td>\n",
       "      <td>0.771358</td>\n",
       "      <td>0.050284</td>\n",
       "      <td>0.178359</td>\n",
       "      <td>0.771358</td>\n",
       "      <td>-0.003169</td>\n",
       "    </tr>\n",
       "    <tr>\n",
       "      <th>25939</th>\n",
       "      <td>75.59</td>\n",
       "      <td>75.64</td>\n",
       "      <td>75.71</td>\n",
       "      <td>75.35</td>\n",
       "      <td>1681425</td>\n",
       "      <td>VTBR</td>\n",
       "      <td>2025-09-06</td>\n",
       "      <td>0.721074</td>\n",
       "      <td>1.0</td>\n",
       "      <td>0.771358</td>\n",
       "      <td>0.050284</td>\n",
       "      <td>0.178359</td>\n",
       "      <td>0.771358</td>\n",
       "      <td>0.001854</td>\n",
       "    </tr>\n",
       "    <tr>\n",
       "      <th>25940</th>\n",
       "      <td>75.69</td>\n",
       "      <td>75.68</td>\n",
       "      <td>75.85</td>\n",
       "      <td>75.50</td>\n",
       "      <td>2186520</td>\n",
       "      <td>VTBR</td>\n",
       "      <td>2025-09-07</td>\n",
       "      <td>0.721074</td>\n",
       "      <td>1.0</td>\n",
       "      <td>0.771358</td>\n",
       "      <td>0.050284</td>\n",
       "      <td>0.178359</td>\n",
       "      <td>0.771358</td>\n",
       "      <td>0.000529</td>\n",
       "    </tr>\n",
       "    <tr>\n",
       "      <th>25941</th>\n",
       "      <td>75.68</td>\n",
       "      <td>75.23</td>\n",
       "      <td>76.05</td>\n",
       "      <td>74.85</td>\n",
       "      <td>31765976</td>\n",
       "      <td>VTBR</td>\n",
       "      <td>2025-09-08</td>\n",
       "      <td>0.721074</td>\n",
       "      <td>1.0</td>\n",
       "      <td>0.771358</td>\n",
       "      <td>0.050284</td>\n",
       "      <td>0.178359</td>\n",
       "      <td>0.771358</td>\n",
       "      <td>-0.005946</td>\n",
       "    </tr>\n",
       "  </tbody>\n",
       "</table>\n",
       "<p>25923 rows × 14 columns</p>\n",
       "</div>"
      ],
      "text/plain": [
       "        open  close   high    low    volume ticker       date  \\\n",
       "1      81.72  82.10  83.98  80.26  18502950   AFLT 2020-06-22   \n",
       "2      82.04  81.20  82.48  80.40  16848930   AFLT 2020-06-23   \n",
       "3      79.78  80.58  80.80  78.22  21559860   AFLT 2020-06-25   \n",
       "4      80.50  79.38  81.44  78.76  14677280   AFLT 2020-06-26   \n",
       "5      79.00  82.90  83.00  77.44  37790740   AFLT 2020-06-29   \n",
       "...      ...    ...    ...    ...       ...    ...        ...   \n",
       "25937  75.10  75.74  75.96  74.61  49552606   VTBR 2025-09-04   \n",
       "25938  75.85  75.50  76.13  74.94  40701093   VTBR 2025-09-05   \n",
       "25939  75.59  75.64  75.71  75.35   1681425   VTBR 2025-09-06   \n",
       "25940  75.69  75.68  75.85  75.50   2186520   VTBR 2025-09-07   \n",
       "25941  75.68  75.23  76.05  74.85  31765976   VTBR 2025-09-08   \n",
       "\n",
       "       sentiment_score  sentiment_label  positive_prob  negative_prob  \\\n",
       "1            -0.808347             -1.0       0.072441       0.880788   \n",
       "2             0.656769              1.0       0.716765       0.059996   \n",
       "3             0.656769              1.0       0.716765       0.059996   \n",
       "4             0.308057              0.0       0.319556       0.011499   \n",
       "5            -0.824868             -1.0       0.038297       0.863165   \n",
       "...                ...              ...            ...            ...   \n",
       "25937         0.228645              0.0       0.312902       0.084258   \n",
       "25938         0.721074              1.0       0.771358       0.050284   \n",
       "25939         0.721074              1.0       0.771358       0.050284   \n",
       "25940         0.721074              1.0       0.771358       0.050284   \n",
       "25941         0.721074              1.0       0.771358       0.050284   \n",
       "\n",
       "       neutral_prob  confidence    return  \n",
       "1          0.046771    0.880788  0.004896  \n",
       "2          0.223239    0.716765 -0.010962  \n",
       "3          0.223239    0.716765 -0.007635  \n",
       "4          0.668945    0.668945 -0.014892  \n",
       "5          0.098538    0.863165  0.044344  \n",
       "...             ...         ...       ...  \n",
       "25937      0.602840    0.602840  0.008119  \n",
       "25938      0.178359    0.771358 -0.003169  \n",
       "25939      0.178359    0.771358  0.001854  \n",
       "25940      0.178359    0.771358  0.000529  \n",
       "25941      0.178359    0.771358 -0.005946  \n",
       "\n",
       "[25923 rows x 14 columns]"
      ]
     },
     "execution_count": 16,
     "metadata": {},
     "output_type": "execute_result"
    }
   ],
   "source": [
    "df_processed"
   ]
  },
  {
   "cell_type": "code",
   "execution_count": null,
   "metadata": {},
   "outputs": [],
   "source": []
  },
  {
   "cell_type": "code",
   "execution_count": null,
   "metadata": {},
   "outputs": [],
   "source": []
  },
  {
   "cell_type": "code",
   "execution_count": 17,
   "metadata": {
    "execution": {
     "iopub.execute_input": "2025-10-04T23:51:11.809032Z",
     "iopub.status.busy": "2025-10-04T23:51:11.808797Z",
     "iopub.status.idle": "2025-10-04T23:54:37.032319Z",
     "shell.execute_reply": "2025-10-04T23:54:37.031478Z",
     "shell.execute_reply.started": "2025-10-04T23:51:11.809016Z"
    }
   },
   "outputs": [
    {
     "name": "stdout",
     "output_type": "stream",
     "text": [
      "Все 'random seed' установлены на 42 для воспроизводимости.\n",
      "Используется устройство: cuda\n",
      "\n",
      "Начало генерации фичей для всех тикеров...\n",
      "Генерация фичей завершена.\n",
      "\n",
      "✅ Всего уникальных фичей: 85\n",
      "📈 Базовые признаки (base_features): 6 признаков\n",
      "🗓️ Временные признаки (time_features): 1 признак\n",
      "😊 Признаки настроений (sentiment_cols): 6 признаков\n",
      "📊 Технические индикаторы (indicator_names): 11 индикаторов\n",
      "📉 Паттерны (pattern_names): 61 паттернов\n",
      "🔖 Код тикера (ticker_code_feature): 1 признак\n",
      "\n",
      "Разделили данные: 15 тикеров для обучения, 4 для валидации.\n",
      "Количество последовательностей для обучения: 19259\n",
      "Количество последовательностей для валидации: 5144\n",
      "\n",
      "--- Начало обучения гибридной модели BiLSTM-TabM ---\n",
      "Эпоха 1/100, Валидационная MAE: 0.013665\n",
      "✅ Модель улучшилась. Веса сохранены. Лучшая MAE: 0.013665\n",
      "Эпоха 2/100, Валидационная MAE: 0.013661\n",
      "✅ Модель улучшилась. Веса сохранены. Лучшая MAE: 0.013661\n",
      "Эпоха 3/100, Валидационная MAE: 0.013642\n",
      "✅ Модель улучшилась. Веса сохранены. Лучшая MAE: 0.013642\n",
      "Эпоха 4/100, Валидационная MAE: 0.013667\n",
      "Эпоха 5/100, Валидационная MAE: 0.013784\n",
      "Эпоха 6/100, Валидационная MAE: 0.013743\n",
      "Эпоха 7/100, Валидационная MAE: 0.014022\n",
      "Эпоха 8/100, Валидационная MAE: 0.013822\n",
      "Эпоха 9/100, Валидационная MAE: 0.014833\n",
      "Эпоха 10/100, Валидационная MAE: 0.013961\n",
      "Эпоха 11/100, Валидационная MAE: 0.014100\n",
      "Эпоха 12/100, Валидационная MAE: 0.014048\n",
      "Эпоха 13/100, Валидационная MAE: 0.014551\n",
      "Ранняя остановка на эпохе 13.\n",
      "\n",
      "--- Обучение завершено ---\n",
      "🏆 Финальная лучшая MAE на валидационном наборе: 0.013642\n",
      "💾 Веса лучшей модели сохранены в 'bilstm_tabm_model_weights.pth'\n"
     ]
    }
   ],
   "source": [
    "import numpy as np\n",
    "import pandas as pd\n",
    "import talib\n",
    "import torch\n",
    "import torch.nn as nn\n",
    "import torch.optim as optim\n",
    "from sklearn.model_selection import train_test_split\n",
    "from sklearn.preprocessing import MinMaxScaler\n",
    "# ### НОВОЕ: Импортируем Dataset для создания кастомного загрузчика ###\n",
    "from torch.utils.data import TensorDataset, DataLoader, Dataset\n",
    "from tabm import TabM # Ensure tabm library is installed (pip install tabm)\n",
    "import warnings\n",
    "import random\n",
    "\n",
    "# Подавляем ненужные предупреждения для чистоты вывода\n",
    "warnings.filterwarnings(\"ignore\", category=FutureWarning)\n",
    "\n",
    "# 1. ОПРЕДЕЛЕНИЕ УСТРОЙСТВА И КОНСТАНТ\n",
    "# ==============================================================================\n",
    "# --- Фиксация сидов для воспроизводимости ---\n",
    "SEED = 42\n",
    "random.seed(SEED)\n",
    "np.random.seed(SEED)\n",
    "torch.manual_seed(SEED)\n",
    "if torch.cuda.is_available():\n",
    "    torch.cuda.manual_seed(SEED)\n",
    "    torch.backends.cudnn.deterministic = True\n",
    "    torch.backends.cudnn.benchmark = False\n",
    "print(f\"Все 'random seed' установлены на {SEED} для воспроизводимости.\")\n",
    "\n",
    "device = torch.device(\"cuda\" if torch.cuda.is_available() else \"cpu\")\n",
    "print(f\"Используется устройство: {device}\")\n",
    "\n",
    "# --- Параметры модели ---\n",
    "SEQUENCE_LENGTH = 60\n",
    "PREDICTION_HORIZON_K = 20\n",
    "EPOCHS = 100\n",
    "BATCH_SIZE = 128 # Вы изменили с 256, оставляем 128\n",
    "LEARNING_RATE = 1e-4\n",
    "PATIENCE = 5\n",
    "\n",
    "# --- Параметры BiLSTM ---\n",
    "LSTM_HIDDEN_SIZE = 128\n",
    "LSTM_NUM_LAYERS = 2\n",
    "\n",
    "# --- Константы фичей ---\n",
    "PATTERN_FUNCTIONS = talib.get_function_groups()['Pattern Recognition']\n",
    "INDICATORS = {\n",
    "    'SMA': [10, 20, 50],\n",
    "    'EMA': [10, 20, 50],\n",
    "    'RSI': [14],\n",
    "    'MACD': [12, 26, 9],\n",
    "    'ATR': [14]\n",
    "}\n",
    "TARGET = 'return'\n",
    "\n",
    "# 2. ЗАГРУЗКА И ПРЕДОБРАБОТКА ДАННЫХ\n",
    "# ==============================================================================\n",
    "# ПРЕДПОЛАГАЕТСЯ, ЧТО df_processed УЖЕ ЗАГРУЖЕН\n",
    "# ... (код загрузки и первичной обработки данных остается без изменений) ...\n",
    "df_processed['date'] = pd.to_datetime(df_processed['date'])\n",
    "df_processed.sort_values(by=['ticker', 'date'], inplace=True)\n",
    "df_processed['day_of_week'] = df_processed['date'].dt.dayofweek\n",
    "sentiment_cols = ['sentiment_score', 'sentiment_label', 'positive_prob', 'negative_prob', 'neutral_prob', 'confidence']\n",
    "df_processed[sentiment_cols] = df_processed.groupby('ticker')[sentiment_cols].ffill().bfill()\n",
    "df_processed.dropna(subset=sentiment_cols, inplace=True)\n",
    "df_processed['return'] = df_processed.groupby('ticker')['close'].pct_change()\n",
    "df_processed.dropna(subset=['return'], inplace=True)\n",
    "\n",
    "# 3. ГЕНЕРАЦИЯ ФИЧЕЙ\n",
    "# ==============================================================================\n",
    "# ... (код генерации фичей остается без изменений) ...\n",
    "print(\"\\nНачало генерации фичей для всех тикеров...\")\n",
    "all_tickers_data = []\n",
    "for ticker, df_ticker in df_processed.groupby('ticker'):\n",
    "    df_ticker = df_ticker.copy()\n",
    "    for pattern_func in PATTERN_FUNCTIONS:\n",
    "        try:\n",
    "            indicator_func = getattr(talib, pattern_func)\n",
    "            result = indicator_func(df_ticker['open'], df_ticker['high'], df_ticker['low'], df_ticker['close'])\n",
    "            df_ticker[pattern_func] = result\n",
    "        except Exception:\n",
    "            df_ticker[pattern_func] = 0\n",
    "    for name, params in INDICATORS.items():\n",
    "        if name == 'MACD':\n",
    "            macd, macdsignal, macdhist = talib.MACD(df_ticker['close'], fastperiod=params[0], slowperiod=params[1], signalperiod=params[2])\n",
    "            df_ticker['MACD'] = macd\n",
    "            df_ticker['MACD_signal'] = macdsignal\n",
    "        elif name == 'ATR':\n",
    "            df_ticker['ATR'] = talib.ATR(df_ticker['high'], df_ticker['low'], df_ticker['close'], timeperiod=params[0])\n",
    "        else:\n",
    "            for period in params:\n",
    "                col_name = f'{name}_{period}'\n",
    "                try:\n",
    "                    indicator_func = getattr(talib, name)\n",
    "                    df_ticker[col_name] = indicator_func(df_ticker['close'], timeperiod=period)\n",
    "                except Exception:\n",
    "                    df_ticker[col_name] = 0\n",
    "    all_tickers_data.append(df_ticker)\n",
    "df_full = pd.concat(all_tickers_data).sort_values(by=['ticker', 'date']).fillna(0)\n",
    "print(\"Генерация фичей завершена.\")\n",
    "\n",
    "# --- ПОДСЧЕТ ФИЧЕЙ ---\n",
    "df_full['ticker_code'] = df_full['ticker'].astype('category').cat.codes\n",
    "base_features = ['open', 'close', 'high', 'low', 'volume', 'return']\n",
    "time_features = ['day_of_week']\n",
    "indicator_names = sorted([col for col in df_full.columns if any(name in col for name in INDICATORS)])\n",
    "pattern_names = sorted([col for col in df_full.columns if col in PATTERN_FUNCTIONS])\n",
    "ticker_code_feature = ['ticker_code']\n",
    "FEATURES = sorted(list(set(base_features + time_features + sentiment_cols + indicator_names + pattern_names + ticker_code_feature)))\n",
    "print(f\"\\n✅ Всего уникальных фичей: {len(FEATURES)}\")\n",
    "print(f\"📈 Базовые признаки (base_features): {len(base_features)} признаков\")\n",
    "print(f\"🗓️ Временные признаки (time_features): {len(time_features)} признак\")\n",
    "print(f\"😊 Признаки настроений (sentiment_cols): {len(sentiment_cols)} признаков\")\n",
    "print(f\"📊 Технические индикаторы (indicator_names): {len(indicator_names)} индикаторов\")\n",
    "print(f\"📉 Паттерны (pattern_names): {len(pattern_names)} паттернов\")\n",
    "print(f\"🔖 Код тикера (ticker_code_feature): {len(ticker_code_feature)} признак\")\n",
    "\n",
    "\n",
    "# 4. МАСШТАБИРОВАНИЕ И СОЗДАНИЕ DATASET'ов\n",
    "# ==============================================================================\n",
    "scaler = MinMaxScaler(feature_range=(0, 1))\n",
    "scaled_data = scaler.fit_transform(df_full[FEATURES])\n",
    "scaled_df = pd.DataFrame(scaled_data, columns=FEATURES, index=df_full.index)\n",
    "scaled_df[TARGET] = df_full[TARGET].values\n",
    "scaled_df['ticker'] = df_full['ticker'].values\n",
    "\n",
    "\n",
    "### НОВОЕ: Кастомный Dataset для эффективной работы с памятью ###\n",
    "class TickerSequenceDataset(Dataset):\n",
    "    def __init__(self, data, features_list, target_col, seq_length, pred_horizon):\n",
    "        self.features_list = features_list\n",
    "        self.target_col = target_col\n",
    "        self.seq_length = seq_length\n",
    "        self.pred_horizon = pred_horizon\n",
    "        \n",
    "        self.data_groups = {ticker: group.reset_index(drop=True) for ticker, group in data.groupby('ticker')}\n",
    "        self.tickers = list(self.data_groups.keys())\n",
    "        \n",
    "        # Создаем \"карту\" всех возможных последовательностей без их материализации\n",
    "        self.index_map = []\n",
    "        for ticker_name in self.tickers:\n",
    "            df_ticker = self.data_groups[ticker_name]\n",
    "            max_start_index = len(df_ticker) - self.seq_length - self.pred_horizon + 1\n",
    "            if max_start_index > 0:\n",
    "                for i in range(max_start_index):\n",
    "                    self.index_map.append((ticker_name, i))\n",
    "\n",
    "    def __len__(self):\n",
    "        return len(self.index_map)\n",
    "\n",
    "    def __getitem__(self, idx):\n",
    "        # По индексу получаем тикер и стартовую позицию последовательности\n",
    "        ticker_name, start_idx = self.index_map[idx]\n",
    "        \n",
    "        # Получаем данные только для этого тикера\n",
    "        df_ticker = self.data_groups[ticker_name]\n",
    "        \n",
    "        # Вырезаем нужную последовательность и таргет\n",
    "        sequence_end_idx = start_idx + self.seq_length\n",
    "        target_idx = sequence_end_idx + self.pred_horizon - 1\n",
    "        \n",
    "        # Извлекаем данные как numpy-массивы\n",
    "        features = df_ticker.loc[start_idx:sequence_end_idx-1, self.features_list].values\n",
    "        target = df_ticker.loc[target_idx, self.target_col]\n",
    "        \n",
    "        # Конвертируем в тензоры\n",
    "        return torch.tensor(features, dtype=torch.float32), torch.tensor(target, dtype=torch.float32).unsqueeze(0)\n",
    "\n",
    "\n",
    "# ### НОВОЕ: Разделение данных по тикерам, а не по случайным последовательностям ###\n",
    "# Это более правильный подход для временных рядов, чтобы избежать утечки данных\n",
    "unique_tickers = scaled_df['ticker'].unique()\n",
    "train_tickers, val_tickers = train_test_split(unique_tickers, test_size=0.2, random_state=SEED)\n",
    "\n",
    "train_df = scaled_df[scaled_df['ticker'].isin(train_tickers)]\n",
    "val_df = scaled_df[scaled_df['ticker'].isin(val_tickers)]\n",
    "\n",
    "print(f\"\\nРазделили данные: {len(train_tickers)} тикеров для обучения, {len(val_tickers)} для валидации.\")\n",
    "\n",
    "# Создаем экземпляры кастомного Dataset\n",
    "train_dataset = TickerSequenceDataset(train_df, FEATURES, TARGET, SEQUENCE_LENGTH, PREDICTION_HORIZON_K)\n",
    "val_dataset = TickerSequenceDataset(val_df, FEATURES, TARGET, SEQUENCE_LENGTH, PREDICTION_HORIZON_K)\n",
    "\n",
    "print(f\"Количество последовательностей для обучения: {len(train_dataset)}\")\n",
    "print(f\"Количество последовательностей для валидации: {len(val_dataset)}\")\n",
    "\n",
    "# Создаем DataLoader'ы, которые будут использовать наш кастомный Dataset\n",
    "train_loader = DataLoader(train_dataset, batch_size=BATCH_SIZE, shuffle=True)\n",
    "val_loader = DataLoader(val_dataset, batch_size=BATCH_SIZE)\n",
    "\n",
    "\n",
    "# 5. ПОСТРОЕНИЕ И ОБУЧЕНИЕ МОДЕЛИ\n",
    "# ==============================================================================\n",
    "class BiLSTM_TabM(nn.Module):\n",
    "    def __init__(self, num_features, lstm_hidden_size, lstm_num_layers, tabm_n_blocks, tabm_d_block, d_out):\n",
    "        super(BiLSTM_TabM, self).__init__()\n",
    "        self.lstm = nn.LSTM(\n",
    "            input_size=num_features,\n",
    "            hidden_size=lstm_hidden_size,\n",
    "            num_layers=lstm_num_layers,\n",
    "            batch_first=True,\n",
    "            bidirectional=True\n",
    "        )\n",
    "        tabm_input_dim = SEQUENCE_LENGTH * lstm_hidden_size * 2\n",
    "        self.tabm = TabM.make(\n",
    "            n_num_features=tabm_input_dim,\n",
    "            d_out=d_out,\n",
    "            n_blocks=tabm_n_blocks,\n",
    "            d_block=tabm_d_block\n",
    "        )\n",
    "    def forward(self, x):\n",
    "        lstm_out, _ = self.lstm(x)\n",
    "        batch_size = lstm_out.size(0)\n",
    "        flattened_out = lstm_out.reshape(batch_size, -1)\n",
    "        tabm_out = self.tabm(flattened_out)\n",
    "        return tabm_out\n",
    "\n",
    "# ### НОВОЕ: num_features теперь берется из списка FEATURES, а не из формы X_train ###\n",
    "model = BiLSTM_TabM(\n",
    "    num_features=len(FEATURES),\n",
    "    lstm_hidden_size=LSTM_HIDDEN_SIZE,\n",
    "    lstm_num_layers=LSTM_NUM_LAYERS,\n",
    "    tabm_n_blocks=3,\n",
    "    tabm_d_block=512,\n",
    "    d_out=1\n",
    ").to(device)\n",
    "\n",
    "optimizer = optim.AdamW(model.parameters(), lr=LEARNING_RATE)\n",
    "criterion = nn.MSELoss()\n",
    "mae_criterion = nn.L1Loss()\n",
    "\n",
    "print(\"\\n--- Начало обучения гибридной модели BiLSTM-TabM ---\")\n",
    "best_val_mae = float('inf')\n",
    "patience_counter = 0\n",
    "\n",
    "for epoch in range(EPOCHS):\n",
    "    model.train()\n",
    "    # ### НОВОЕ: Цикл обучения не меняется, но теперь он эффективно работает с памятью ###\n",
    "    for batch_X, batch_y in train_loader:\n",
    "        # Отправляем данные на нужное устройство\n",
    "        batch_X, batch_y = batch_X.to(device), batch_y.to(device)\n",
    "        \n",
    "        optimizer.zero_grad()\n",
    "        y_pred = model(batch_X).mean(dim=1) \n",
    "        loss = criterion(y_pred, batch_y)\n",
    "        loss.backward()\n",
    "        optimizer.step()\n",
    "\n",
    "    model.eval()\n",
    "    val_maes = []\n",
    "    with torch.no_grad():\n",
    "        for batch_X, batch_y in val_loader:\n",
    "            batch_X, batch_y = batch_X.to(device), batch_y.to(device)\n",
    "            y_pred = model(batch_X).mean(dim=1) \n",
    "            val_mae = mae_criterion(y_pred, batch_y)\n",
    "            val_maes.append(val_mae.item())\n",
    "\n",
    "    avg_val_mae = np.mean(val_maes)\n",
    "    print(f\"Эпоха {epoch+1}/{EPOCHS}, Валидационная MAE: {avg_val_mae:.6f}\")\n",
    "\n",
    "    if avg_val_mae < best_val_mae:\n",
    "        best_val_mae = avg_val_mae\n",
    "        torch.save(model.state_dict(), 'bilstm_tabm_model_weights.pth')\n",
    "        print(f\"✅ Модель улучшилась. Веса сохранены. Лучшая MAE: {best_val_mae:.6f}\")\n",
    "        patience_counter = 0\n",
    "    else:\n",
    "        patience_counter += 1\n",
    "        if patience_counter >= PATIENCE:\n",
    "            print(f\"Ранняя остановка на эпохе {epoch+1}.\")\n",
    "            break\n",
    "\n",
    "# 6. ВЫВОД ИТОГОВОЙ МЕТРИКИ\n",
    "# ==============================================================================\n",
    "\n",
    "print(\"\\n--- Обучение завершено ---\")\n",
    "print(f\"🏆 Финальная лучшая MAE на валидационном наборе: {best_val_mae:.6f}\")\n",
    "print(\"💾 Веса лучшей модели сохранены в 'bilstm_tabm_model_weights.pth'\")"
   ]
  },
  {
   "cell_type": "code",
   "execution_count": 18,
   "metadata": {
    "execution": {
     "iopub.execute_input": "2025-10-04T23:54:37.033583Z",
     "iopub.status.busy": "2025-10-04T23:54:37.033288Z",
     "iopub.status.idle": "2025-10-04T23:54:38.593496Z",
     "shell.execute_reply": "2025-10-04T23:54:38.592878Z",
     "shell.execute_reply.started": "2025-10-04T23:54:37.033560Z"
    }
   },
   "outputs": [
    {
     "name": "stdout",
     "output_type": "stream",
     "text": [
      "\n",
      "--- Начало генерации файла сабмита ---\n",
      "Веса лучшей модели успешно загружены.\n",
      "Начинаем генерацию прогнозов для 19 тикеров...\n",
      "\n",
      "✅ Файл сабмита 'submission.csv' успешно сгенерирован.\n",
      "   Количество тикеров в файле: 19\n",
      "   Пример сгенерированных данных:\n",
      "  ticker        p1        p2        p3        p4        p5        p6  \\\n",
      "0   AFLT  0.001220  0.001108  0.001043  0.000885  0.000823  0.000784   \n",
      "1   ALRS  0.000923  0.001014  0.001108  0.001181  0.001364  0.001599   \n",
      "2   CHMF  0.000918  0.000900  0.000822  0.000762  0.000856  0.000898   \n",
      "3   GAZP  0.000292  0.000926  0.001333  0.001539  0.001732  0.001910   \n",
      "4   GMKN  0.001297  0.001368  0.001558  0.001676  0.001696  0.001683   \n",
      "\n",
      "         p7        p8        p9  ...       p11       p12       p13       p14  \\\n",
      "0  0.000789  0.000843  0.000944  ...  0.000787  0.000882  0.001057  0.001132   \n",
      "1  0.001829  0.002045  0.002155  ...  0.002030  0.002016  0.001796  0.001561   \n",
      "2  0.000946  0.000964  0.000926  ...  0.000772  0.000661  0.000506  0.000446   \n",
      "3  0.002001  0.001774  0.001267  ...  0.000052 -0.000377 -0.000655 -0.000620   \n",
      "4  0.001653  0.001601  0.001563  ...  0.001091  0.000813  0.000622  0.000488   \n",
      "\n",
      "        p15       p16       p17       p18       p19       p20  \n",
      "0  0.001045  0.000935  0.000857  0.000734  0.000544  0.000417  \n",
      "1  0.001258  0.000894  0.000445  0.000110 -0.000092 -0.000300  \n",
      "2  0.000401  0.000469  0.000442  0.000364  0.000395  0.000487  \n",
      "3 -0.000340 -0.000170 -0.000136 -0.000168 -0.000003  0.000021  \n",
      "4  0.000135 -0.000207 -0.000547 -0.000819 -0.001064 -0.001111  \n",
      "\n",
      "[5 rows x 21 columns]\n"
     ]
    }
   ],
   "source": [
    "# ==============================================================================\n",
    "# 7. ГЕНЕРАЦИЯ ФАЙЛА САБМИТА\n",
    "# ==============================================================================\n",
    "\n",
    "print(\"\\n--- Начало генерации файла сабмита ---\")\n",
    "\n",
    "# --- Загрузка лучшей модели ---\n",
    "# Инициализируем модель с той же архитектурой\n",
    "model = BiLSTM_TabM(\n",
    "    num_features=len(FEATURES),\n",
    "    lstm_hidden_size=LSTM_HIDDEN_SIZE,\n",
    "    lstm_num_layers=LSTM_NUM_LAYERS,\n",
    "    tabm_n_blocks=3,\n",
    "    tabm_d_block=512,\n",
    "    d_out=1\n",
    ").to(device)\n",
    "\n",
    "\n",
    "model.load_state_dict(torch.load('/kaggle/working/bilstm_tabm_model_weights.pth', map_location=device))\n",
    "print(\"Веса лучшей модели успешно загружены.\")\n",
    "\n",
    "model.eval() # Переводим модель в режим оценки\n",
    "\n",
    "# --- Подготовка к генерации прогнозов ---\n",
    "submission_data = []\n",
    "# Будем генерировать прогнозы для всех тикеров, которые есть в данных\n",
    "all_unique_tickers = scaled_df['ticker'].unique()\n",
    "\n",
    "print(f\"Начинаем генерацию прогнозов для {len(all_unique_tickers)} тикеров...\")\n",
    "\n",
    "with torch.no_grad():\n",
    "    for ticker in all_unique_tickers:\n",
    "        ticker_df = scaled_df[scaled_df['ticker'] == ticker].copy()\n",
    "        \n",
    "        # Проверяем, достаточно ли данных для генерации полной последовательности прогнозов\n",
    "        # Нам нужна как минимум (SEQUENCE_LENGTH + PREDICTION_HORIZON_K - 1) точка данных\n",
    "        if len(ticker_df) < SEQUENCE_LENGTH + PREDICTION_HORIZON_K - 1:\n",
    "            print(f\"⚠️  Пропуск тикера {ticker}: недостаточно данных ({len(ticker_df)} точек) для генерации прогноза.\")\n",
    "            continue\n",
    "\n",
    "        predictions = []\n",
    "        \n",
    "        # Генерируем 20 прогнозов (p1, p2, ..., p20)\n",
    "        # Для каждого прогноза p_i сдвигаем входное окно данных\n",
    "        for i in range(1, PREDICTION_HORIZON_K + 1):\n",
    "            # Конечная точка среза для i-го прогноза\n",
    "            # Чтобы спрогнозировать день T+i, модель, обученная на горизонте K,\n",
    "            # должна получить на вход данные, заканчивающиеся в день T+i-K.\n",
    "            end_idx = len(ticker_df) - (PREDICTION_HORIZON_K - i)\n",
    "            start_idx = end_idx - SEQUENCE_LENGTH\n",
    "            \n",
    "            # Извлекаем последовательность фичей\n",
    "            sequence = ticker_df.iloc[start_idx:end_idx][FEATURES].values\n",
    "            \n",
    "            # Преобразуем в тензор и добавляем batch-измерение\n",
    "            X_tensor = torch.tensor(sequence, dtype=torch.float32).unsqueeze(0).to(device)\n",
    "            \n",
    "            # Делаем предсказание\n",
    "            y_pred = model(X_tensor).mean(dim=1)\n",
    "            \n",
    "            # Сохраняем результат\n",
    "            predictions.append(y_pred.item())\n",
    "\n",
    "        # Создаем словарь для строки в итоговом файле\n",
    "        row = {'ticker': ticker}\n",
    "        row.update({f'p{i+1}': pred for i, pred in enumerate(predictions)})\n",
    "        submission_data.append(row)\n",
    "\n",
    "# --- Создание и сохранение DataFrame ---\n",
    "if submission_data:\n",
    "    submission_df = pd.DataFrame(submission_data)\n",
    "    \n",
    "    # Задаем правильный порядок столбцов\n",
    "    column_order = ['ticker'] + [f'p{i}' for i in range(1, PREDICTION_HORIZON_K + 1)]\n",
    "    submission_df = submission_df[column_order]\n",
    "    \n",
    "    # Сохраняем в CSV файл\n",
    "    submission_df.to_csv('submission.csv', index=False)\n",
    "    \n",
    "    print(\"\\n✅ Файл сабмита 'submission.csv' успешно сгенерирован.\")\n",
    "    print(f\"   Количество тикеров в файле: {len(submission_df)}\")\n",
    "    print(\"   Пример сгенерированных данных:\")\n",
    "    print(submission_df.head())\n",
    "else:\n",
    "    print(\"\\n⚠️ Не удалось сгенерировать данные для сабмита. Возможно, ни для одного тикера не хватило данных.\")"
   ]
  },
  {
   "cell_type": "code",
   "execution_count": null,
   "metadata": {},
   "outputs": [],
   "source": []
  },
  {
   "cell_type": "code",
   "execution_count": null,
   "metadata": {},
   "outputs": [],
   "source": []
  },
  {
   "cell_type": "code",
   "execution_count": null,
   "metadata": {},
   "outputs": [],
   "source": []
  },
  {
   "cell_type": "code",
   "execution_count": null,
   "metadata": {},
   "outputs": [],
   "source": []
  },
  {
   "cell_type": "code",
   "execution_count": null,
   "metadata": {},
   "outputs": [],
   "source": []
  },
  {
   "cell_type": "code",
   "execution_count": null,
   "metadata": {},
   "outputs": [],
   "source": []
  },
  {
   "cell_type": "code",
   "execution_count": null,
   "metadata": {},
   "outputs": [],
   "source": []
  },
  {
   "cell_type": "code",
   "execution_count": null,
   "metadata": {},
   "outputs": [],
   "source": []
  }
 ],
 "metadata": {
  "kaggle": {
   "accelerator": "gpu",
   "dataSources": [
    {
     "datasetId": 8402556,
     "sourceId": 13259930,
     "sourceType": "datasetVersion"
    },
    {
     "datasetId": 8404060,
     "sourceId": 13262101,
     "sourceType": "datasetVersion"
    }
   ],
   "dockerImageVersionId": 31090,
   "isGpuEnabled": true,
   "isInternetEnabled": true,
   "language": "python",
   "sourceType": "notebook"
  },
  "kernelspec": {
   "display_name": "Python [conda env:base] *",
   "language": "python",
   "name": "conda-base-py"
  },
  "language_info": {
   "codemirror_mode": {
    "name": "ipython",
    "version": 3
   },
   "file_extension": ".py",
   "mimetype": "text/x-python",
   "name": "python",
   "nbconvert_exporter": "python",
   "pygments_lexer": "ipython3",
   "version": "3.12.7"
  }
 },
 "nbformat": 4,
 "nbformat_minor": 4
}
